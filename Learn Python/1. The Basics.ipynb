{
 "metadata": {
  "name": "1. The Basics"
 },
 "nbformat": 3,
 "nbformat_minor": 0,
 "worksheets": [
  {
   "cells": [
    {
     "cell_type": "markdown",
     "metadata": {},
     "source": [
      "*This next cell just sets some things up for later. Be sure to run this first. It's meaning will be clear later.*"
     ]
    },
    {
     "cell_type": "code",
     "collapsed": false,
     "input": [
      "%pylab inline"
     ],
     "language": "python",
     "metadata": {},
     "outputs": []
    },
    {
     "cell_type": "markdown",
     "metadata": {},
     "source": [
      "# Learning Python\n",
      "\n",
      "This is a short tutorial introducing the Python programming language. There are many, many tutorials on the web, but most of them are geared towards computer scientists or programmers. This tutorial will be a little different in that concenpts will be introduced (or excluded) based on their applicability to chemistry applications.\n",
      "\n",
      "Before we start, let's just look at a short Python program that should demonstrate the brevity and power of this tool for chemical applications. The problem we are addressing is that you have just collected an [FTIR](http://en.wikipedia.org/wiki/Fourier_transform_infrared_spectroscopy) spectrum, and you'd like to make a nice plot for a presentation or publication. If the IR software does not (easily) make sufficiently detailed plots, you may want to export the data as a text (space '.txt' or comma separated '.csv') file to be able to plot in Excel or another plotting program. In this case, I've exported some real data into a file called 'ftir_data.txt', which is simply two space-separated columns of data. Importing and plotting this data can be done as follows: "
     ]
    },
    {
     "cell_type": "code",
     "collapsed": false,
     "input": [
      "import numpy as np\n",
      "import matplotlib.pyplot as plt\n",
      "\n",
      "wavenumbers, intensities = np.loadtxt('ftir_data.txt', unpack=True)\n",
      "\n",
      "plt.plot(wavenumbers, intensities)\n",
      "\n",
      "plt.show()"
     ],
     "language": "python",
     "metadata": {},
     "outputs": []
    },
    {
     "cell_type": "markdown",
     "metadata": {},
     "source": [
      "That wasn't so much work. Look's like we accomplished our task in five lines of code. You could copy and paste this into a text file, rename it '*anything*.py', and run it with Python outside of this notebook, and you'd see the same thing. Except that the plot would be displayed in a nice interactive window. Try it out if you'd like. (The text file needs to live in the same folder as 'ftir_data.txt', though.)\n",
      "\n",
      "However, you may notice that our plot could look much nicer. In this case, you may need to make some modifications to get it looking the way that you like. How is this:"
     ]
    },
    {
     "cell_type": "code",
     "collapsed": false,
     "input": [
      "import numpy as np\n",
      "import matplotlib.pyplot as plt\n",
      "\n",
      "wavenumbers, intensities = np.loadtxt('ftir_data.txt', unpack=True)\n",
      "\n",
      "plt.figure(figsize=(12,6))\n",
      "ax = plt.subplot(111)\n",
      "plt.plot(wavenumbers, intensities, color='r', lw=2)\n",
      "\n",
      "plt.xlim(4000, 1500)\n",
      "plt.ylim(0.25, 1.7)\n",
      "\n",
      "plt.xlabel('Wavenumber ($\\mathrm{cm^{-1}}$)', fontsize=16)\n",
      "plt.ylabel('Intensity (a.u.)', fontsize=16)\n",
      "\n",
      "plt.title('My FTIR Spectrum', fontsize=20)\n",
      "\n",
      "plt.grid()\n",
      "plt.minorticks_on()\n",
      "plt.tick_params(which='major', length=8, labelsize=16)\n",
      "plt.tick_params(which='minor', length=4)\n",
      "\n",
      "plt.show()"
     ],
     "language": "python",
     "metadata": {},
     "outputs": []
    },
    {
     "cell_type": "code",
     "collapsed": false,
     "input": [],
     "language": "python",
     "metadata": {},
     "outputs": []
    }
   ],
   "metadata": {}
  }
 ]
}