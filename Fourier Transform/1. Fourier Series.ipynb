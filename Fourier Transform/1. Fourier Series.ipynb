{
 "metadata": {
  "name": "1. Fourier Series"
 },
 "nbformat": 3,
 "nbformat_minor": 0,
 "worksheets": [
  {
   "cells": [
    {
     "cell_type": "markdown",
     "metadata": {},
     "source": [
      "<script type=\"text/javascript\">\n",
      "    var div_cell = \"div.cell.text_cell{ width:1000px; margin-left:auto; margin-right:auto;}\"\n",
      "    $('head').append( \"<style type='text/css'>\" + div_cell + \"</style>\");\n",
      "</script>\n",
      "\n",
      "# Fourier Series\n",
      "\n",
      "The [Fourier Series](http://en.wikipedia.org/wiki/Fourier_series) is a way to represent arbitrary periodic signals using linear combinations of sine and cosine functions. A mathematical device that is at the heart of the Fourier transform. Let's have a look at an example to see how it works.\n",
      "\n",
      "First of all, import the numerical array (Numpy) and plotting (Matplotlib) libraries, with the plots being shown 'inline'."
     ]
    },
    {
     "cell_type": "code",
     "collapsed": false,
     "input": [
      "%pylab inline\n",
      "import fourier_series as fs"
     ],
     "language": "python",
     "metadata": {},
     "outputs": []
    },
    {
     "cell_type": "markdown",
     "metadata": {},
     "source": [
      "First we need to generate a simple square wave, which will be one for half the duration of the signal, and -1 for the second half. At the end, we will make a plot of the data.\n",
      "\n",
      "Variables:\n",
      "\n",
      "* *npoints*: The number of points in our data sets.\n",
      "\n",
      "* *time*: The total time over which one oscillation of our square wave will occur. (x-axis data)\n",
      "\n",
      "* *square*: This is our square wave. This is constructed in three steps as seen below. (y-axis data)\n",
      "\n",
      "* *fs.square\\_plot*: This function plots our data. See the file *fourier\\_series.py* if you want to know what's going on."
     ]
    },
    {
     "cell_type": "code",
     "collapsed": false,
     "input": [
      "npoints = 1000\n",
      "time = np.linspace(0, 1, npoints)\n",
      "square = np.zeros( npoints ) # This is an array of zeros\n",
      "square[ npoints/2 : -1 ] = -1. # Set the second half of the array, except the last point, to -1\n",
      "square[ 1 : npoints/2 ] = 1. # Set the first half of the array, except the first point, to 1\n",
      "fs.square_plot(time, square)"
     ],
     "language": "python",
     "metadata": {},
     "outputs": []
    },
    {
     "cell_type": "markdown",
     "metadata": {},
     "source": [
      "The Fourier series that can be used to represent this function is [the following](http://mathworld.wolfram.com/FourierSeriesSquareWave.html):\n",
      "\n",
      "$$f(x)= \\frac{4}{\\pi} \\sum_{n=1,3,5,...}^{\\infty} \\frac{1}{n} \\sin \\left( \\frac{n \\pi x}{L} \\right)$$\n",
      "\n",
      "Where *L* is the period length of the square wave. Because this is an infinite sum, the solution should converge as we increase the number of sine waves that are being added together.\n",
      "\n",
      "First, let the variable *n* below be the number of sine waves that we are going to add together. Generate a plot of each sine wave superimposed, and then make another plot that overlays the sum of these sine waves on the original square wave function.\n",
      "\n",
      "### Try increasing *n* to different integer values to see what happens to the superimposed wave function."
     ]
    },
    {
     "cell_type": "code",
     "collapsed": false,
     "input": [
      "n = 1 # Number of sine waves\n",
      "\n",
      "fs.series_plot(time, square, n)"
     ],
     "language": "python",
     "metadata": {},
     "outputs": []
    },
    {
     "cell_type": "code",
     "collapsed": false,
     "input": [],
     "language": "python",
     "metadata": {},
     "outputs": []
    }
   ],
   "metadata": {}
  }
 ]
}