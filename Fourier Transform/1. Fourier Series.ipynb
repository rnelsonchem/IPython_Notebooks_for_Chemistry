{
 "metadata": {
  "name": "1. Fourier Series"
 },
 "nbformat": 3,
 "nbformat_minor": 0,
 "worksheets": [
  {
   "cells": [
    {
     "cell_type": "markdown",
     "metadata": {},
     "source": [
      "# Fourier Series\n",
      "\n",
      "The [Fourier Series](http://en.wikipedia.org/wiki/Fourier_series) is a way to represent arbitrary periodic signals using linear combinations of sine and cosine functions. A mathematical device that is at the heart of the Fourier transform. Let's have a look at an example to see how it works.\n",
      "\n",
      "First of all, import the numerical array (Numpy) and plotting (Matplotlib) libraries, with the plots being shown 'inline'."
     ]
    },
    {
     "cell_type": "code",
     "collapsed": false,
     "input": [
      "%pylab inline\n",
      "#import numpy as np\n",
      "#import matplotlib.pyplot as plt"
     ],
     "language": "python",
     "metadata": {},
     "outputs": []
    },
    {
     "cell_type": "markdown",
     "metadata": {},
     "source": [
      "First we will generate a simple square wave, which will be one for half the duration of the signal, and -1 for the second half."
     ]
    },
    {
     "cell_type": "code",
     "collapsed": false,
     "input": [
      "npoints = 1000\n",
      "time = np.linspace(0, 1, npoints) # This will be the x-axis time data\n",
      "square = np.ones( npoints ) # This is an array of ones\n",
      "square[ npoints/2 : ] *= -1 # This is multiplying the second half of the array of ones by -1\n",
      "#square[ npoints/2 : ] = square[ npoints/2 : ] * -1 ## The line above is equivalent to this one\n",
      "square[0] = 0 # Set the first and last point to zero\n",
      "square[-1] = 0"
     ],
     "language": "python",
     "metadata": {},
     "outputs": []
    },
    {
     "cell_type": "markdown",
     "metadata": {},
     "source": [
      "Now we can plot this function to see what it looks like. Here we'll just draw a thin, horizontal line at y=0 just for visualization purposes."
     ]
    },
    {
     "cell_type": "code",
     "collapsed": false,
     "input": [
      "plt.axhline(0, color='k', alpha=0.5) # Draw a black horizontal line at zero, just for visual aesthetics\n",
      "plt.plot(time, square) # Plot the x and y axis data\n",
      "plt.ylim(-1.05, 1.05) # Set the x and y limits\n",
      "plt.xlim(-0.05, 1.05)"
     ],
     "language": "python",
     "metadata": {},
     "outputs": []
    },
    {
     "cell_type": "markdown",
     "metadata": {},
     "source": [
      "The Fourier series that can be used to represent this function is [the following](http://mathworld.wolfram.com/FourierSeriesSquareWave.html):\n",
      "\n",
      "$$f(x)= \\frac{4}{\\pi} \\sum_{n=1,3,5,...}^{\\infty} \\frac{1}{n} \\sin \\left( \\frac{n \\pi x}{L} \\right)$$\n",
      "\n",
      "Where *L* is the period length of the square wave. Because this is an infinite sum, the solution should converge as we increase the number of sine waves that are being added together. Let's try that out.\n",
      "\n",
      "First, let *n* be the number of sine waves that we are going to add together. First, we'll use array broadcasting to generate a 2D array of sine waves. We'll make a plot of each sine wave superimposed, and then we'll make another plot that overlays the sum of these sine waves on the original square wave function."
     ]
    },
    {
     "cell_type": "code",
     "collapsed": false,
     "input": [
      "n = 1 # Number of sine waves\n",
      "\n",
      "odds = np.arange(1, 2*n, 2).reshape(-1,1) # Make an array of odd numbers, reshaped to be a (n,1) 2D array (column)\n",
      "fourier_series = (4./np.pi)*( (1./odds) * np.sin(2*odds*np.pi*time) ) # Here's all of our sine waves\n",
      "\n",
      "plt.figure(figsize=(12,4))\n",
      "ax1 = plt.subplot(121)\n",
      "plt.plot(time, fourier_series.T) # We need to transpose the sine wave array to get it to plot correctly\n",
      "\n",
      "plt.subplot(122, sharex=ax1) # Make sure both subplots share the same x axis information\n",
      "plt.axhline(0, color='k', alpha=0.5) # Make a thin center line\n",
      "plt.plot(time, fourier_series.sum( axis=0 ), lw=2) # Sum the sine waves, make the line thick\n",
      "plt.plot(time, square, 'k') # Plot the square wave\n",
      "plt.xlim(-0.05, 1.05)"
     ],
     "language": "python",
     "metadata": {},
     "outputs": []
    },
    {
     "cell_type": "code",
     "collapsed": false,
     "input": [],
     "language": "python",
     "metadata": {},
     "outputs": []
    }
   ],
   "metadata": {}
  }
 ]
}