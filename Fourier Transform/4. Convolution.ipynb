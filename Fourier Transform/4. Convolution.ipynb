{
 "metadata": {
  "name": "4. Convolution"
 },
 "nbformat": 3,
 "nbformat_minor": 0,
 "worksheets": [
  {
   "cells": [
    {
     "cell_type": "markdown",
     "metadata": {},
     "source": [
      "<script type=\"text/javascript\">\n",
      "    var div_cell = \"div.cell.text_cell{ width:1000px; margin-left:auto; margin-right:auto;}\"\n",
      "    $('head').append( \"<style type='text/css'>\" + div_cell + \"</style>\");\n",
      "</script>\n",
      "\n",
      "# Convolution\n",
      "The [convolution](http://en.wikipedia.org/wiki/Convolution) of two function is important for understading the behavior of a number of different processes, including signal smoothing and Fourier transformations.\n",
      "\n",
      "Convolution is defined as the following mathematical operation:\n",
      "$$(f*g)(t) = \\int_{-\\infty}^{+\\infty} f(\\tau)g(t - \\tau)d\\tau = \\int_{-\\infty}^{+\\infty} f(t - \\tau)g(\\tau)d\\tau$$\n",
      "\n",
      "This is effectively the function that you get when you 'slide' one function over the other.\n",
      "\n",
      "To explore this concept, we'll first import our array and plotting libraries, as well as a functions for displaying external images."
     ]
    },
    {
     "cell_type": "code",
     "collapsed": false,
     "input": [
      "%pylab inline\n",
      "from IPython.display import Image, SVG"
     ],
     "language": "python",
     "metadata": {},
     "outputs": []
    },
    {
     "cell_type": "markdown",
     "metadata": {},
     "source": [
      "The following image shows the convolution of two square waves. In this case, square wave *g* is being 'swept' across square wave *f* to give a new triangular convolution function *f\\*g*. There is an error in this picture, though, in that the triangular wave should have twice the intensity of the original waves. When the two square waves are directly overlapping, the resulting function will have twice the intensity. We could get the picture shown if one of the waves was normalized by its integrated area."
     ]
    },
    {
     "cell_type": "code",
     "collapsed": false,
     "input": [
      "Image(url=\"http://upload.wikimedia.org/wikipedia/commons/6/6a/Convolution_of_box_signal_with_itself2.gif\")"
     ],
     "language": "python",
     "metadata": {},
     "outputs": []
    },
    {
     "cell_type": "markdown",
     "metadata": {},
     "source": [
      "## Example in spectroscopy\n",
      "\n",
      "The convolution plays an important roll in spectroscopy, so as an example, let's look at that roll in UV/Vis spectroscopy. \n",
      "\n",
      "First, we need to simulate a 'perfect' spectrum. At ambient temeratures, the absorbance lines can be approximated by Gaussian functions, so we can simulate an absorbance spectrum by first defining a [Gaussian function](http://en.wikipedia.org/wiki/Gaussian_function) that we will use to generate the absorbance lines. A Gaussian function has the following form:\n",
      "$$ f(x) = a e^{- { \\frac{(x-b)^2 }{ 2 c^2} } } $$\n",
      "\n",
      "Where *a* is the height, *b* is the position of the center of the function, and *c* is the half width of the peak at the inflection points."
     ]
    },
    {
     "cell_type": "code",
     "collapsed": false,
     "input": [
      "def gaussian(x, height, width, position):\n",
      "    exponent = -((x - position)**2)/(2.*width**2)\n",
      "    return height*np.exp(exponent)"
     ],
     "language": "python",
     "metadata": {},
     "outputs": []
    },
    {
     "cell_type": "markdown",
     "metadata": {},
     "source": [
      "Now we can simulate a series of Gaussian functions by defining arrays of heights, widths, and positions. A vector of wavelengths (in nanometers) is also defined; however, we need to adjust this vector for our purposes. Rotating this 1D vector (using the [*reshape*](http://docs.scipy.org/doc/numpy/reference/generated/numpy.ndarray.reshape.html#numpy.ndarray.reshape) method) creates a [n,1] 2D array. For our Gaussian function above, when using an [n,1] 2D array for the x values and [m,] length vectors for the height, width, and positional variables an [n, m] 2D array is returned with each column representing a different Gaussian function over the given wavelength range. This new 2D array can be plotted directly against wavelength to give a plot of each simulated Gaussian function. "
     ]
    },
    {
     "cell_type": "code",
     "collapsed": false,
     "input": [
      "heights = np.array( [10., 8., 2., 7.] )\n",
      "widths = np.array( [20., 5. , 10., 4.] ) \n",
      "positions = np.array( [345., 380., 440., 600.] )\n",
      "\n",
      "low_wl = 300. # Low wavelength\n",
      "high_wl = 650. # High wavelength\n",
      "npoints = 10000. # Number of points\n",
      "wl_res = (high_wl - low_wl)/(npoints - 1) # Wavelength resolution between points\n",
      "wavelength = np.linspace(low_wl, high_wl, npoints).reshape(-1,1) \n",
      "\n",
      "gs = gaussian(wavelength, heights, widths, positions)\n",
      "plt.plot(wavelength, gs)"
     ],
     "language": "python",
     "metadata": {},
     "outputs": []
    },
    {
     "cell_type": "markdown",
     "metadata": {},
     "source": [
      "For a more realistic simulation, we should [sum](http://docs.scipy.org/doc/numpy/reference/generated/numpy.ndarray.sum.html#numpy.ndarray.sum) all of these Gaussian functions along the wavelength axis. (In this case, the row axis is 0, but our column axis is 1. Notice that this compresses our 2D [n, m] array into a [n,] length vector.)"
     ]
    },
    {
     "cell_type": "code",
     "collapsed": false,
     "input": [
      "gs_sum = gs.sum(axis=1)\n",
      "print gs_sum.shape\n",
      "\n",
      "plt.plot(wavelength, gs_sum)"
     ],
     "language": "python",
     "metadata": {},
     "outputs": []
    },
    {
     "cell_type": "markdown",
     "metadata": {},
     "source": [
      "To see the effects of convolution on this spectrum, consider the simple spectrometer shown below. Rotation of the grating angle allows light of different wavelengths to interact with the sample. Monitoring the detector response relative to grating angle, which is directly related to wavelength, gives us an absorbance spectrum. In theory, the slit should be infinately thin, so that only a single wavelength of light is passing through the sample at any given time. This ensures that Beer's Law ( A = &#949;bC ) is always valid and that the resulting linewidth will be the natural linewidth for the particular transition.\n",
      "\n",
      "Unfortunately, the slit can never be infinitely thin, so there will always be multiple wavelengths of light interacting with the sample at any given time. This has the effect of broadening the lines beyond the natural line width because there will be multiple wavelengths contributing to each absorbance point. This effect can be simulated by convolving a simulated spectrum with a square wave function that approximates the slit."
     ]
    },
    {
     "cell_type": "code",
     "collapsed": false,
     "input": [
      "SVG(filename='spectrometer.svg')"
     ],
     "language": "python",
     "metadata": {},
     "outputs": []
    },
    {
     "cell_type": "markdown",
     "metadata": {},
     "source": [
      "Next, we can define a slit function as a simple square function, because when the slit is interacting with a particular wavelength of light it will either let light through or it won't. In this case, there is no need to have any zeros around the square wave (the result will be the same). Our slit width will be in nanometers, so in order to match that up with our wavelength axis, we need to calculate how many points that relates to based on our wavelength resolution. The number of points here needs to be an odd number; otherwise, you will get a small offset in the covolution. \n",
      "\n",
      "We can plot this slit against our simulated data to get a feel for its size."
     ]
    },
    {
     "cell_type": "code",
     "collapsed": false,
     "input": [
      "slit_width = 10.5 # Nanometers. \n",
      "# Calculate the number of points to use for the slitwidth. In this case, it's best to \n",
      "# have an odd number to avoid an offset of the data, so we need to do some funny\n",
      "# business here.\n",
      "slit_pts = int(slit_width/wl_res)\n",
      "if (slit_pts % 2) == 0:\n",
      "    slit_pts += 1\n",
      "print 'The number of data points in our slit:', slit_pts\n",
      "slit = np.ones( slit_pts )\n",
      "\n",
      "center = 350.\n",
      "plt.axvline(center, c='k')\n",
      "plt.plot(wavelength, gs_sum)\n",
      "plt.axvspan(center-slit_width/2, center+slit_width/2, color='k', alpha=0.2)"
     ],
     "language": "python",
     "metadata": {},
     "outputs": []
    },
    {
     "cell_type": "markdown",
     "metadata": {},
     "source": [
      "Numpy has a built-in convolution function, so we don't have to worry about implementing this ourselves. The 'same' parameter ensures that the number of points in the output array is the same as the input. This warps the edges of the output, but that is not important in this example as our data is all zeros on the edges. The convolution function will also change the intensity of our peaks, so we must normalize the slit function to the integrated area of the slit in order to preserve the proper peak height in the covolution.\n",
      "\n",
      "To see an example of this in action, see the [following site](http://analitica.inycom.es/es-es/notas-de-aplicacion/Documents/UV_200_01_04_e.pdf) for some data on the UV/Vis spectrum of benzene vapor."
     ]
    },
    {
     "cell_type": "code",
     "collapsed": false,
     "input": [
      "cv = np.convolve(gs_sum, slit/slit.sum(), 'same')\n",
      "\n",
      "plt.plot(wavelength, gs_sum, 'b')\n",
      "plt.plot(wavelength, cv, 'g')\n",
      "#plt.xlim(360, 390)"
     ],
     "language": "python",
     "metadata": {},
     "outputs": []
    },
    {
     "cell_type": "code",
     "collapsed": false,
     "input": [],
     "language": "python",
     "metadata": {},
     "outputs": []
    }
   ],
   "metadata": {}
  }
 ]
}