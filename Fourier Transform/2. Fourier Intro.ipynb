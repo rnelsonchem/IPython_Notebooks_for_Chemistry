{
 "metadata": {
  "name": "2. Fourier Intro"
 },
 "nbformat": 3,
 "nbformat_minor": 0,
 "worksheets": [
  {
   "cells": [
    {
     "cell_type": "markdown",
     "metadata": {},
     "source": [
      "# Fourier Transform Introduction\n",
      "\n",
      "For a continuous signal, the [Fourier transform](http://en.wikipedia.org/wiki/Fourier_transform) (FT, Equation 1) is simply the integral of a time-domain (complex) function, $f(t)$, multiplied by an imaginary exponential function.\n",
      "\n",
      "$$\\mathrm{Equation\\ 1:}\\ \\ \\ F( \\nu ) = \\int_{-\\infty}^{+\\infty} f(t) e^{- i 2 \\pi \\nu t} \\mathrm{d}t$$\n",
      "\n",
      "There are two things to keep in mind here. First of all, the frequency term in the exponential is equivalent to radians (Equation 2). Also, an exponential of an imaginary number can be expanded by [Euler's Formula](http://en.wikipedia.org/wiki/Euler%27s_formula) (Equation 3).\n",
      "\n",
      "$$\\mathrm{Equation\\ 2:}\\ \\ \\ \\omega=2 \\pi \\nu$$\n",
      "\n",
      "$$\\mathrm{Equation\\ 3:}\\ \\ \\ e^{- i 2 \\pi \\nu t}=\\cos(2 \\pi \\nu t) + i \\sin(2 \\pi \\nu t)$$\n",
      "\n",
      "In this case, Equation 1 can be expanded to a form in terms of sines and cosines (Equation 4).\n",
      "\n",
      "$$\\mathrm{Equation\\ 4:}\\ \\ \\ F( \\nu ) = \\int_{-\\infty}^{+\\infty} f(t) \\cos(2 \\pi \\nu t) \\mathrm{d}t + i \\int_{-\\infty}^{+\\infty} f(t) \\sin(2 \\pi \\nu t) \\mathrm{d}t$$\n",
      "\n",
      "For functions that are easily integrable and infinite, this equation can be solved exactly. However, in most real situations (such as a spectroscopic signal) this time domain function is a very complex, finite signal that can not be easily integrated. In this case, we need to use a [Discrete Fourier Transform](http://en.wikipedia.org/wiki/Discrete_Fourier_transform) (Equation 5).\n",
      "\n",
      "$$\\mathrm{Equation\\ 5:}\\ \\ \\ F( \\nu_{m} ) = \\sum_{n=0}^{N-1} x_{n} e^{- i 2 \\pi n m / N}$$\n",
      "\n",
      "Where the *x* values are the *N* total discrete data points, and *m/N* are the frequencies for the complex sinusoidal functions with the following *m* values: \n",
      "\n",
      "$$m( \\mathrm{even} ) = \\frac{-N}{2}, \\frac{-N}{2}+1, \\cdots , \\frac{-N}{2} + (N-1)$$\n",
      "\n",
      "$$m( \\mathrm{odd} ) = \\frac{-(N-1)}{2}, \\frac{-(N-1)}{2}+1, \\cdots , \\frac{-(N-1)}{2} + N$$\n",
      "\n",
      "Again this can be expanded using Euler's Formula. \n",
      "\n",
      "$$\\mathrm{Equation\\ 6:}\\ \\ \\ F( \\nu_{m} ) = \\sum_{n=0}^{N-1} x_{n} [\\cos(2 \\pi n m / N) + i \\sin(2 \\pi n m / N)]$$\n",
      "\n",
      "Fortunately, efficient computational alogrithms were determined for equation many years ago and are collectively known as [Fast Fourier Transformations](http://en.wikipedia.org/wiki/Fast_Fourier_transform) (FFT). It is not an overstatement to say that these algorithms revolutionized spectrocopic methods. \n",
      "\n",
      "Below, we will first look at a very simple, contrived example FT just to make sure that we understand how it works in general. Next, we will explore some of the properties of this transformation by looking at some simulated data that more accurately reflects real world situations.\n",
      "\n",
      "First of all, be sure to import Numpy and Matplotlib, which have the code for FT and plotting, respecively. The 'inline' statement will put all of the pictures into the web browswer window."
     ]
    },
    {
     "cell_type": "code",
     "collapsed": false,
     "input": [
      "%pylab inline\n",
      "# This statement below sets some printing options so we \n",
      "# don't get so many digits after the decimal (precision) and lots of very small floats (suppress)\n",
      "np.set_printoptions(precision=5, suppress=True) "
     ],
     "language": "python",
     "metadata": {},
     "outputs": []
    },
    {
     "cell_type": "markdown",
     "metadata": {},
     "source": [
      "## \"Simple\" FT Example\n",
      "\n",
      "First of all, let's try to perform a 4-point FT on an arbitrary set of data. In this case, we'll focus on Equation 6 from above, which for 4 data points will have the following values \n",
      "\n",
      "* *n* values will range from 0 to 3\n",
      "* *m* values will range from (-4/2)+0,...,(-4/2)+3 = -2, -1, 0, 1"
     ]
    },
    {
     "cell_type": "code",
     "collapsed": false,
     "input": [
      "n = np.arange(4)\n",
      "m = np.array([0., -1., -2., 1.]) # This goofy ordering has important consequences as seen below"
     ],
     "language": "python",
     "metadata": {},
     "outputs": []
    },
    {
     "cell_type": "markdown",
     "metadata": {},
     "source": [
      "Next we are going to need to calculate our angular 2*&#960;*n*m/N terms. We need to calculate the product for each n value at every freqency, which means we will need to ultimately get a 2D array of numbers as shown below. \n",
      "\n",
      "* theta1 = (m0,n0), (m0, n1), (m0, n2), (m0, n3)\n",
      "* theta2 = (m1,n0), (m1, n1), (m1, n2), (m1, n3)\n",
      "* theta3 = (m2,n0), (m2, n1), (m2, n2), (m2, n3)\n",
      "* theta4 = (m3,n0), (m3, n1), (m3, n2), (m3, n3)\n",
      "\n",
      "To efficiently accomplish this, rotate the *m* array so that it will be a column rather than a row vector. Then we can calculate the product, which generates a 2D array. The rows of our 2D array will be individual frequencies (m/N values), and the columns will be each *n* value."
     ]
    },
    {
     "cell_type": "code",
     "collapsed": false,
     "input": [
      "m = m.reshape(-1, 1)\n",
      "theta = 2*np.pi*n*m/4.\n",
      "\n",
      "print 2*np.pi*n\n",
      "print \n",
      "print m/4.\n",
      "print\n",
      "print theta"
     ],
     "language": "python",
     "metadata": {},
     "outputs": []
    },
    {
     "cell_type": "markdown",
     "metadata": {},
     "source": [
      "Lets just take a look to see how these terms transform in cosine and sine functions."
     ]
    },
    {
     "cell_type": "code",
     "collapsed": false,
     "input": [
      "print np.cos(theta)"
     ],
     "language": "python",
     "metadata": {},
     "outputs": []
    },
    {
     "cell_type": "code",
     "collapsed": false,
     "input": [
      "print np.sin(theta)"
     ],
     "language": "python",
     "metadata": {},
     "outputs": []
    },
    {
     "cell_type": "markdown",
     "metadata": {},
     "source": [
      "The second term in Equation 6 is going to be the complex sum of the cosine and sine functions, so let's take a look at that array. \n",
      "\n",
      "Notice anything interesting about this array? It is symmetric about the diagonal. It turns out that this will always be the case if the number of data points is a power of two (e.g. 2**n). This symmetry allows considerable reductions in the number of computations that need to be performed, and it is the basis of the original Fast Fourier Transform algorithms."
     ]
    },
    {
     "cell_type": "code",
     "collapsed": false,
     "input": [
      "euler = np.cos(theta) + np.sin(theta)*1j\n",
      "\n",
      "print euler"
     ],
     "language": "python",
     "metadata": {},
     "outputs": []
    },
    {
     "cell_type": "markdown",
     "metadata": {},
     "source": [
      "To finish things out, this array needs to be multiplied by every discrete data point, so let's make up some imaginary data to see what this looks like. The frequency spectrum will be the sum of the rows after this multiplication."
     ]
    },
    {
     "cell_type": "code",
     "collapsed": false,
     "input": [
      "fake = np.array([5., 7., 1., 3.])\n",
      "ft_fake = fake*euler\n",
      "\n",
      "print ft_fake\n",
      "print\n",
      "print 'Our FT analysis:', ft_fake.sum(axis=1)"
     ],
     "language": "python",
     "metadata": {},
     "outputs": []
    },
    {
     "cell_type": "markdown",
     "metadata": {},
     "source": [
      "Let's compare our result with an FFT algorithm, specifically the one implemented in Numpy, [*numpy.fft.fft*](http://docs.scipy.org/doc/numpy/reference/generated/numpy.fft.fft.html)."
     ]
    },
    {
     "cell_type": "code",
     "collapsed": false,
     "input": [
      "print 'FFT algorithm:', np.fft.fft( fake )"
     ],
     "language": "python",
     "metadata": {},
     "outputs": []
    },
    {
     "cell_type": "markdown",
     "metadata": {},
     "source": [
      "## FT of a Cosine Function\n",
      "\n",
      "Generate a simulated cosine spectrum. For reasons discussed later, it is best that the frequency is an integer multiple of 2*&#960;. In this case, we need to decide how long we will acquire our data and the number of points that will be collected. Although any number of points can be used with the FFT algorithm, it is most efficient when the number of points is a power of two (*vide supra*). \n",
      "\n",
      "Using the length of time and the number of points, we can generate a series of time points (x axis) that will be used for our simulation."
     ]
    },
    {
     "cell_type": "code",
     "collapsed": false,
     "input": [
      "acq_time = 1. # Seconds\n",
      "npoints = 2**17 # Best if this is an exact multiple of 2\n",
      "\n",
      "time = np.linspace(0, acq_time, npoints) # Time points in seconds"
     ],
     "language": "python",
     "metadata": {},
     "outputs": []
    },
    {
     "cell_type": "markdown",
     "metadata": {},
     "source": [
      "In this case, we'll just simulate a single frequency in Hertz. This needs to get converted into radians (rad = 2*&#960;*freq). Then we'll generate a cosine function that spans our time range at the particular frequency that we have defined (cos(rad*time))."
     ]
    },
    {
     "cell_type": "code",
     "collapsed": false,
     "input": [
      "frequency = 40  # Hertz, leave this as an integer for the time being\n",
      "freq_rad = 2*np.pi*frequency\n",
      "cos_spec = np.cos(freq_rad*time)"
     ],
     "language": "python",
     "metadata": {},
     "outputs": []
    },
    {
     "cell_type": "markdown",
     "metadata": {},
     "source": [
      "Now lets make a wide dual plot. The plot on the left is the cosine function over the full range of times; the plot on the right is a zoomed in region of the spectrum."
     ]
    },
    {
     "cell_type": "code",
     "collapsed": false,
     "input": [
      "plt.figure(figsize=(12,4))\n",
      "plt.subplot(121)\n",
      "plt.plot(time, cos_spec)\n",
      "\n",
      "plt.subplot(122)\n",
      "plt.plot(time, cos_spec)\n",
      "plt.xlim(0, 0.1)"
     ],
     "language": "python",
     "metadata": {},
     "outputs": []
    },
    {
     "cell_type": "markdown",
     "metadata": {},
     "source": [
      "Next well use [Numpy's fast Fourier transform routine](http://docs.scipy.org/doc/numpy/reference/generated/numpy.fft.fft.html) to calculate the Fourier transform (FT) of our simulated spectrum. At this point, notice that this function only requires the intenstiy data (y data) and not the time data (x axis). This is a limitation of the Fourier transform: there is no specific time information in the transformation. In addition, there is an assumption that the data are equally spaced in time! The time information will be incorporated in a moment. \n",
      "\n",
      "If you have unequally spaced data, you need to either [reinterpolate](http://docs.scipy.org/doc/scipy/reference/interpolate.html) the data onto a equally spaced grid or use an alternative method to the FT (e.g. [least squares spectral analysis](http://en.wikipedia.org/wiki/Least-squares_spectral_analysis) which is [implemented in Scipy](http://docs.scipy.org/doc/scipy/reference/tutorial/signal.html#lomb-scargle-periodograms-spectral-lombscargle))."
     ]
    },
    {
     "cell_type": "code",
     "collapsed": false,
     "input": [
      "ft_cos = np.fft.fft(cos_spec)"
     ],
     "language": "python",
     "metadata": {},
     "outputs": []
    },
    {
     "cell_type": "markdown",
     "metadata": {},
     "source": [
      "Again, we'll make a wide dual plot of our FT data. The FT is a complex transformation, so the computed results contains both real (left plot) and imaginary (right plot) components. In the case of a pure cosine input wave, the FT does not contain any (appreciable) imagainary components. You may see some small contamination because this is a discrete, not continuous, FT, but this is the most realistic spectroscopic situation. (The ax stuff in the plottin is just making it so that both plots have the same y axis.) Notice that we are not setting the x axis values, so the numbers in the x axis of our plot are just the index numbers for the FT array."
     ]
    },
    {
     "cell_type": "code",
     "collapsed": false,
     "input": [
      "plt.figure(figsize=(12,4))\n",
      "ax1 = plt.subplot(121)\n",
      "plt.plot(ft_cos.real)\n",
      "\n",
      "plt.subplot(122, sharey=ax1, sharex=ax1)\n",
      "plt.plot(ft_cos.imag)\n",
      "plt.xlim(-10000,140000)"
     ],
     "language": "python",
     "metadata": {},
     "outputs": []
    },
    {
     "cell_type": "markdown",
     "metadata": {},
     "source": [
      "As you can see above, the x axis is simply the array index values for our FT data. In order to properly display these data, we need to calculate the appropriate frequencies for each data point. The equation necessary to calculate frequencies for Numpy's FFT roution is given below (for an even number of data points):\n",
      "\n",
      "$$f = \\dfrac{[0, 1, ... , n/2 - 1, -n/2, ..., -1]}{n*d}$$\n",
      "\n",
      "Where n is the number of data points in the time domain and d is the time delay between points. Does this equation look familiar? How about the *m* values for Equation 5. Notice, this is also the first instance where any specific time information about our system is being incorporated. Since Numpy uses the original Cooley-Tukey FFT algorithm, this frequency ordering is necessary to obtain the symmetric FT array that we saw above in our 4 point case. This ordering is going to be the case for any other program that uses the same underlying code; however, some programs may reorganize the data behind the scenes. This requires several additional computations, as you will see, so it is quite inefficient.\n",
      "\n",
      "Fortunately, Numpy has a convenience function, [*fftfreq*](http://docs.scipy.org/doc/numpy/reference/generated/numpy.fft.fftfreq.html), that can do this calculation for us. This function needs to know the number of points in the original data set and the time step, which is the length of time between each data point.\n",
      "\n",
      "The frequencies as returned by this function are clearly not ordered. This is not really a problem, except that is causes some strange behavior in the plotting routines. In this case, we will also calculate an integer array that sorts the frequecy list using Numpy's [*argsort*](http://docs.scipy.org/doc/numpy/reference/generated/numpy.argsort.html) function. This array can then be applied as an indexing mask to sort the frequency and FT data."
     ]
    },
    {
     "cell_type": "code",
     "collapsed": false,
     "input": [
      "timestep = acq_time/npoints\n",
      "freqs = np.fft.fftfreq(npoints, d=timestep)\n",
      "asort = freqs.argsort()"
     ],
     "language": "python",
     "metadata": {},
     "outputs": []
    },
    {
     "cell_type": "markdown",
     "metadata": {},
     "source": [
      "Now that we have our x axis data, the FT data can be plotted with an appropriate x axis. The x axis is zoomed in substantially, because the range of frequencies is very high (add a 'print freqs.max()' to see exactly). Notice that we have two peaks in the real spectrum: one at a positive value and one at the same value but negative. What is going on here? Is there a problem?"
     ]
    },
    {
     "cell_type": "code",
     "collapsed": false,
     "input": [
      "plt.figure(figsize=(12,4))\n",
      "ax1 = plt.subplot(121)\n",
      "plt.plot(freqs[asort], ft_cos.real[asort])\n",
      "\n",
      "plt.subplot(122, sharey=ax1, sharex=ax1)\n",
      "plt.plot(freqs[asort], ft_cos.imag[asort])\n",
      "plt.xlim(-100, 100)"
     ],
     "language": "python",
     "metadata": {},
     "outputs": []
    },
    {
     "cell_type": "markdown",
     "metadata": {},
     "source": [
      "### An aside.\n",
      "\n",
      "We're going to make lots of plots like the above, so it might be useful to rewrite this plotting stuff as its own fuctions. That way, if we have to change the code in some way, we won't have to go back and change a many lines of code by hand. These functions have been written into an external file, *plotting.py*, and we load them as shown below. (The [*%run*](http://ipython.org/ipython-doc/dev/interactive/tutorial.html) command is specific to iPython.)"
     ]
    },
    {
     "cell_type": "code",
     "collapsed": false,
     "input": [
      "%run plotting"
     ],
     "language": "python",
     "metadata": {},
     "outputs": []
    },
    {
     "cell_type": "markdown",
     "metadata": {},
     "source": [
      "## FT of a Sine Function\n",
      "\n",
      "Next, let's look at the sine function case. Make a new sine function in the same way that we made the previous cosine function, with the same frequency component. Again, we'll plot things in the same way, with a nice wide double plot."
     ]
    },
    {
     "cell_type": "code",
     "collapsed": false,
     "input": [
      "sin_spec = np.sin(freq_rad*time)\n",
      "\n",
      "dual_plot_time(time, sin_spec, 0.0, 0.1)"
     ],
     "language": "python",
     "metadata": {},
     "outputs": []
    },
    {
     "cell_type": "markdown",
     "metadata": {},
     "source": [
      "Next, we'll do the FT of the sine function to see how it differs from a cosine function. In this case, you do not see any (appreciable) real data, but there are two peaks in the imaginary data: a positive one at negative frequencies and a negative peak at positive frequencies. What's going on here?"
     ]
    },
    {
     "cell_type": "code",
     "collapsed": false,
     "input": [
      "ft_sin = np.fft.fft(sin_spec)\n",
      "\n",
      "dual_plot_ft(freqs, ft_sin, asort, -100, 100)"
     ],
     "language": "python",
     "metadata": {},
     "outputs": []
    },
    {
     "cell_type": "markdown",
     "metadata": {},
     "source": [
      "## FT of Complex Data\n",
      "\n",
      "We've seen both cases where we have cose and sine functions. As we've seen though, the FT can take complex inputs. So what if we have complex mixtures of sine and cosine functions?\n",
      "\n",
      "Here we'll take an FT of mixture of real cosine and imaginary sine functions. As you can see, we now know the exact frequency and the sign of the intensity is correct. How is this possible?"
     ]
    },
    {
     "cell_type": "code",
     "collapsed": false,
     "input": [
      "ft_cps = np.fft.fft(cos_spec + sin_spec*1j)\n",
      "\n",
      "dual_plot_ft(freqs, ft_cps, asort, -100, 100)"
     ],
     "language": "python",
     "metadata": {},
     "outputs": []
    },
    {
     "cell_type": "markdown",
     "metadata": {},
     "source": [
      "Now let's look at some of the other combinations."
     ]
    },
    {
     "cell_type": "code",
     "collapsed": false,
     "input": [
      "ft_cms = np.fft.fft(cos_spec - sin_spec*1j)\n",
      "\n",
      "dual_plot_ft(freqs, ft_cms, asort, -100, 100)"
     ],
     "language": "python",
     "metadata": {},
     "outputs": []
    },
    {
     "cell_type": "code",
     "collapsed": false,
     "input": [
      "ft_spc = np.fft.fft(sin_spec + cos_spec*1j)\n",
      "\n",
      "dual_plot_ft(freqs, ft_spc, asort, -100, 100)"
     ],
     "language": "python",
     "metadata": {},
     "outputs": []
    },
    {
     "cell_type": "code",
     "collapsed": false,
     "input": [
      "ft_smc = np.fft.fft(sin_spec - cos_spec*1j)\n",
      "\n",
      "dual_plot_ft(freqs, ft_smc, asort, -100, 100)"
     ],
     "language": "python",
     "metadata": {},
     "outputs": []
    },
    {
     "cell_type": "markdown",
     "metadata": {},
     "source": [
      "## Multiple Frequencies\n",
      "\n",
      "What happens when there are multiple oscillating components in the same spectrum? \n",
      "\n",
      "First, let's make a new function that is a mixture of a couple of frequencies."
     ]
    },
    {
     "cell_type": "code",
     "collapsed": false,
     "input": [
      "frequency2 = 50 # Hertz, leave this as an integer for the time being\n",
      "freq_rad2 = 2*np.pi*frequency2\n",
      "\n",
      "cos_spec2 = np.cos(freq_rad*time) + np.cos(freq_rad2*time)\n",
      "\n",
      "dual_plot_time(time, cos_spec2, 0.0, 0.1)"
     ],
     "language": "python",
     "metadata": {},
     "outputs": []
    },
    {
     "cell_type": "markdown",
     "metadata": {},
     "source": [
      "Now take the FT of this data, and look at the resulting frequency spectrum. As you might have expected, there are now multiple frequency componenents. "
     ]
    },
    {
     "cell_type": "code",
     "collapsed": false,
     "input": [
      "ft_cos2 = np.fft.fft(cos_spec2)\n",
      "\n",
      "dual_plot_ft(freqs, ft_cos2, asort, -100, 100)"
     ],
     "language": "python",
     "metadata": {},
     "outputs": []
    },
    {
     "cell_type": "markdown",
     "metadata": {},
     "source": [
      "Let's look at another related situtation. What happens when the intensities of the compenents are different? This can also be simulated fairly easily.\n",
      "\n"
     ]
    },
    {
     "cell_type": "code",
     "collapsed": false,
     "input": [
      "cos_spec3 = 5*np.cos(freq_rad*time) + np.cos(freq_rad2*time)\n",
      "\n",
      "dual_plot_time(time, cos_spec3, 0.0, 0.1)"
     ],
     "language": "python",
     "metadata": {},
     "outputs": []
    },
    {
     "cell_type": "markdown",
     "metadata": {},
     "source": [
      "Here's the FT of that simulated data. As you might have expected, the intensity of the two peaks is different by the ratio defined in our simulation. As it turns out, the integrated area under these peaks also has the same ratio. For various reasons in real systems, the areas and not intensities are much better indicators of the relative amounts of each frequency componenent."
     ]
    },
    {
     "cell_type": "code",
     "collapsed": false,
     "input": [
      "ft_cos3 = np.fft.fft(cos_spec3)\n",
      "\n",
      "dual_plot_ft(freqs, ft_cos3, asort, -100, 100)"
     ],
     "language": "python",
     "metadata": {},
     "outputs": []
    },
    {
     "cell_type": "markdown",
     "metadata": {},
     "source": [
      "## Inverse FT\n",
      "\n",
      "The FT is a reversible process, so if you are given a spectrum of frequencies, you can convert those into a time-domain spectrum as well. The Numpy inverse transforms all begin with 'i', so [*ifft*](http://docs.scipy.org/doc/numpy/reference/generated/numpy.fft.ifft.html) will reverse our FT from before. However, the FT and its reverse are both complex transformations. Even though we started with purely real data, the reverse may give some small amount of imaginary data as well because of floating point errors. (Notice the y axis limits on the lower plot of imaginary data, though. They are very small (10**(-14)) relative to the real data.)"
     ]
    },
    {
     "cell_type": "code",
     "collapsed": false,
     "input": [
      "rev_cos3 = np.fft.ifft(ft_cos3)\n",
      "\n",
      "dual_plot_time(time, rev_cos3.real, 0.0, 0.1)\n",
      "dual_plot_time(time, rev_cos3.imag, 0.0, 0.1)"
     ],
     "language": "python",
     "metadata": {},
     "outputs": []
    },
    {
     "cell_type": "code",
     "collapsed": false,
     "input": [],
     "language": "python",
     "metadata": {},
     "outputs": []
    }
   ],
   "metadata": {}
  }
 ]
}