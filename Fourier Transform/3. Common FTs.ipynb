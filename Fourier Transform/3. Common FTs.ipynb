{
 "metadata": {
  "name": "3. Common FTs"
 },
 "nbformat": 3,
 "nbformat_minor": 0,
 "worksheets": [
  {
   "cells": [
    {
     "cell_type": "markdown",
     "metadata": {},
     "source": [
      "<script type=\"text/javascript\">\n",
      "    var div_cell = \"div.cell.text_cell{ width:1000px; margin-left:auto; margin-right:auto;}\"\n",
      "    $('head').append( \"<style type='text/css'>\" + div_cell + \"</style>\");\n",
      "</script>\n",
      "\n",
      "# Common FTs\n",
      "\n",
      "In this notebook, we will explore a variety of common FTs that you will see in many types of spectroscopy. \n",
      "\n",
      "First, read in the Numpy and Matplotlib modules for arrays and plotting, respectively. We'll also set the plot output to be in the web browser ('inline'). Load in the plotting functions that we defined before as well."
     ]
    },
    {
     "cell_type": "code",
     "collapsed": false,
     "input": [
      "%pylab inline\n",
      "%run plotting.py"
     ],
     "language": "python",
     "metadata": {},
     "outputs": []
    },
    {
     "cell_type": "markdown",
     "metadata": {},
     "source": [
      "Here we will set up our sample data that we'll use for the remainder of the examples. Be sure to see the notebook 'Fourier Intro' to find out what these specific variables mean."
     ]
    },
    {
     "cell_type": "code",
     "collapsed": false,
     "input": [
      "acq_time = 1. # Seconds\n",
      "npoints = 2**17 # Best if this is an exact multiple of 2\n",
      "\n",
      "times = np.linspace(0, acq_time, npoints) # Time points in seconds\n",
      "\n",
      "timestep = acq_time/npoints\n",
      "freqs = np.fft.fftfreq(npoints, d=timestep)\n",
      "asort = freqs.argsort()"
     ],
     "language": "python",
     "metadata": {},
     "outputs": []
    },
    {
     "cell_type": "markdown",
     "metadata": {},
     "source": [
      "## All Ones \n",
      "\n",
      "First, let's look at the FT of a function that is all ones. In this case, there are no oscillations, so the FT is pretty trivial. However, it is important to keep this in mind later."
     ]
    },
    {
     "cell_type": "code",
     "collapsed": false,
     "input": [
      "just_ones = np.ones( len(times) )\n",
      "ft_just_ones = np.fft.fft( just_ones )\n",
      "\n",
      "dual_plot_ft(freqs, ft_just_ones, asort, -10, 10)"
     ],
     "language": "python",
     "metadata": {},
     "outputs": []
    },
    {
     "cell_type": "markdown",
     "metadata": {},
     "source": [
      "## Rectangle Pulse\n",
      "\n",
      "A very common function, especially in NMR spectroscopy, is the rectangular pulse, which is simply one for a short period before 'instantly' dropping to zero. The following code will generate a simple rectangle pulse function. The 'ones_length' variable sets the amount of time that our pulse will be active."
     ]
    },
    {
     "cell_type": "code",
     "collapsed": false,
     "input": [
      "ones_length = 1.0e-2 # seconds\n",
      "mask = times > ones_length\n",
      "ones = np.ones( len(times) )\n",
      "ones[mask] = 0\n",
      "print npoints - mask.sum()\n",
      "\n",
      "dual_plot_time(times, ones, -0.05, 0.05)\n",
      "plt.ylim(-0.05, 1.05)"
     ],
     "language": "python",
     "metadata": {},
     "outputs": []
    },
    {
     "cell_type": "markdown",
     "metadata": {},
     "source": [
      "Below is the FT of the rectangle pulse. The real spectrum is called a [sinc function](http://en.wikipedia.org/wiki/Sinc_function), which is simply:\n",
      "\n",
      "$$\\mathrm{sinc}(x) = \\frac{\\sin(x)}{x}$$\n",
      "\n",
      "The center of the sync function is 0 Hz, because a signal that stays at one has a frequency of zero Hertz. The width at half height of the sinc function that you get from this FT is as follows:\n",
      "\n",
      "$$\\Delta \\nu_{1/2} \\approx \\frac{0.6}{T}$$\n",
      "\n",
      "Where *T* is the length of time that the pulse is one."
     ]
    },
    {
     "cell_type": "code",
     "collapsed": false,
     "input": [
      "ft_ones = np.fft.fft(ones)\n",
      "print '%.4f Hertz width at half height' % (0.6/ones_length)\n",
      "\n",
      "dual_plot_ft(freqs, ft_ones, asort, -1000, 1000)"
     ],
     "language": "python",
     "metadata": {},
     "outputs": []
    },
    {
     "cell_type": "markdown",
     "metadata": {},
     "source": [
      "## Exponential Decay\n",
      "\n",
      "Another very common function is the [exponential decay function](http://en.wikipedia.org/wiki/Exponential_decay), which is simply:\n",
      "\n",
      "$$f(x) = \\exp \\left( \\frac{-t*\\ln(2)}{\\lambda}\\right)$$\n",
      "\n",
      "Where *t* are the times, and $\\frac{\\ln(2)}{\\lambda}$ is the half life of the decay. "
     ]
    },
    {
     "cell_type": "code",
     "collapsed": false,
     "input": [
      "lam = 0.1\n",
      "edecay = np.exp(-times*np.log(2.)/lam)\n",
      "\n",
      "plt.plot(times, edecay)"
     ],
     "language": "python",
     "metadata": {},
     "outputs": []
    },
    {
     "cell_type": "markdown",
     "metadata": {},
     "source": [
      "The FT of the exponential decay function is a [Lorentzian fuction](http://en.wikipedia.org/wiki/Cauchy_distribution), which is defined as follows:\n",
      "\n",
      "$$f(x, p, h, w) = h \\left( \\frac{ w^{2} }{ (p - x)^{2} + w^{2} } \\right)$$\n",
      "\n",
      "Where *p* is the position of the peak, *h* is the height, and *w* is the half-width as half the peak height. The width of the FT Lorentzian is:\n",
      "\n",
      "$$\\Delta \\nu_{1/2} \\approx \\frac{1}{\\pi \\lambda}$$"
     ]
    },
    {
     "cell_type": "code",
     "collapsed": false,
     "input": [
      "ft_edecay = np.fft.fft(edecay)\n",
      "print '%.4f Hertz width at half height' % (1./(np.pi*lam))\n",
      "\n",
      "dual_plot_ft(freqs, ft_edecay, asort, -100, 100)"
     ],
     "language": "python",
     "metadata": {},
     "outputs": []
    },
    {
     "cell_type": "markdown",
     "metadata": {},
     "source": [
      "## Gaussian Function\n",
      "\n",
      "The final function is the [Gaussian function](http://en.wikipedia.org/wiki/Gaussian_function). Here it is easiest to just define a new Python function that calculates a Gaussian function at specific height, width, and position values. The full width at half maximum (FWHM) is calculated by the following relationship (width=c):\n",
      "\n",
      "$$ \\mathrm{FWHM} = 2\\sqrt{2\\ln(2)} c $$"
     ]
    },
    {
     "cell_type": "code",
     "collapsed": false,
     "input": [
      "def gaussian(x, height, width, position):\n",
      "    exponent = -((x - position)**2)/(2.*(width**2))\n",
      "    return height*np.exp(exponent)\n",
      "\n",
      "width = 0.11\n",
      "fwhm = 2*np.sqrt(2*np.log(2))*width\n",
      "gauss = gaussian(times, 1., width, 0.)\n",
      "\n",
      "plt.plot(times, gauss)"
     ],
     "language": "python",
     "metadata": {},
     "outputs": []
    },
    {
     "cell_type": "markdown",
     "metadata": {},
     "source": [
      "The FT of this function is a special case that is simply another Gaussian function. In this case, the FWHM is related to the inverse of the orginal FWHM.\n",
      "\n",
      "$$ \\mathrm{FWHM_{FT}} \\approx \\frac{1}{ \\sqrt{ 2 \\ln(2)} \\ \\mathrm{FWHM_{time}} }$$"
     ]
    },
    {
     "cell_type": "code",
     "collapsed": false,
     "input": [
      "ft_gauss = np.fft.fft(gauss)\n",
      "print '%.4f Hertz width at half height' % ( 1./(np.sqrt(2*np.log(2))*fwhm) )\n",
      "\n",
      "dual_plot_ft(freqs, ft_gauss, asort, -100, 100)"
     ],
     "language": "python",
     "metadata": {},
     "outputs": []
    },
    {
     "cell_type": "markdown",
     "metadata": {},
     "source": [
      "## Gaussian-Lorentzian Comparison\n",
      "\n",
      "It is useful to compare the shapes of a Gaussian and Lorentzian line, so let's plot them together for comparison. Also, notice that even thought the heights are a little different, the integrated areas of the peaks are the same."
     ]
    },
    {
     "cell_type": "code",
     "collapsed": false,
     "input": [
      "plt.figure(figsize=(12,4))\n",
      "ax1 = plt.subplot(121)\n",
      "plt.plot(freqs[asort], ft_gauss.real[asort])\n",
      "plt.plot(freqs[asort], ft_edecay.real[asort])\n",
      "\n",
      "plt.subplot(122, sharey=ax1, sharex=ax1)\n",
      "plt.plot(freqs[asort], ft_gauss.imag[asort])\n",
      "plt.plot(freqs[asort], ft_edecay.imag[asort])\n",
      "plt.xlim(-10,10)\n",
      "\n",
      "print 'Lortentzian Info:'\n",
      "print '%.4f Hertz width at half height' % (1./(np.pi*lam))\n",
      "print 'Integrated area of the FT:', ft_edecay.real.sum()\n",
      "print 'Gaussian Info:'\n",
      "print '%.4f Hertz width at half height' % ( 1./(np.sqrt(2*np.log(2))*fwhm) )\n",
      "print 'Integrated area of the Gaussian FT:', ft_gauss.real.sum() \n"
     ],
     "language": "python",
     "metadata": {},
     "outputs": []
    },
    {
     "cell_type": "markdown",
     "metadata": {},
     "source": [
      "# Square Wave Redux\n",
      "\n",
      "Let's reconsider the square wave example that we saw in the Fourier Series notebook."
     ]
    },
    {
     "cell_type": "code",
     "collapsed": false,
     "input": [
      "time = np.linspace(0, acq_time, npoints) # This will be the x-axis time data\n",
      "square = np.ones( npoints ) # This is an array of ones\n",
      "square[ npoints/2 : ] *= -1 # This is multiplying the second half of the array of ones by -1\n",
      "#square[ npoints/2 : ] = square[ npoints/2 : ] * -1 ## The line above is equivalent to this one\n",
      "square[0] = 0 # Set the first and last point to zero\n",
      "square[-1] = 0\n",
      "\n",
      "plt.axhline(0, color='k', alpha=0.5) # Draw a black horizontal line at zero, just for visual aesthetics\n",
      "plt.plot(time, square) # Plot the x and y axis data\n",
      "plt.ylim(-1.05, 1.05) # Set the x and y limits\n",
      "plt.xlim(-0.05, 1.05)"
     ],
     "language": "python",
     "metadata": {},
     "outputs": []
    },
    {
     "cell_type": "markdown",
     "metadata": {},
     "source": [
      "Remember that the Fourier Series describing this functions is as follows:\n",
      "\n",
      "$$f(x)= \\frac{4}{\\pi} \\sum_{n=1,3,5,...}^{\\infty} \\frac{1}{n} \\sin \\left( \\frac{n \\pi x}{L} \\right)$$\n",
      "\n",
      "Where *L* is the period length of the square wave. \n",
      "\n",
      "Let's look at the FT of this function and compare our result with the equation above. I'm only going to plot half the data (>0 Hz), because the other half is redundant."
     ]
    },
    {
     "cell_type": "code",
     "collapsed": false,
     "input": [
      "ft_square = np.fft.fft(square)\n",
      "freqs = np.fft.fftfreq(square.size, 1./npoints)\n",
      "asort = freqs.argsort()\n",
      "\n",
      "dual_plot_ft(freqs, ft_square, asort, 0, 20)\n",
      "#fcheck = 1 # Hz\n",
      "#plt.axvline(fcheck, color='k')\n",
      "#print 'The imaginary intensity closest to %.3f Hz' % fcheck\n",
      "#print ft_square[ np.abs( freqs - fcheck ).argmin() ].imag"
     ],
     "language": "python",
     "metadata": {},
     "outputs": []
    },
    {
     "cell_type": "code",
     "collapsed": false,
     "input": [],
     "language": "python",
     "metadata": {},
     "outputs": []
    }
   ],
   "metadata": {}
  }
 ]
}