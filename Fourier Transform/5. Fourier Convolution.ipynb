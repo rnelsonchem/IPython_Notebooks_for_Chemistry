{
 "metadata": {
  "name": "5. Fourier Convolution"
 },
 "nbformat": 3,
 "nbformat_minor": 0,
 "worksheets": [
  {
   "cells": [
    {
     "cell_type": "markdown",
     "metadata": {},
     "source": [
      "<script type=\"text/javascript\">\n",
      "    var div_cell = \"div.cell.text_cell{ width:1000px; margin-left:auto; margin-right:auto;}\"\n",
      "    $('head').append( \"<style type='text/css'>\" + div_cell + \"</style>\");\n",
      "</script>\n",
      "\n",
      "# Convolution Theorem\n",
      "\n",
      "It turns out that you really only need to know a few different types of functional FTs because the FT and convolution have a very interesting relationship, called the [Convolution Theorem](http://en.wikipedia.org/wiki/Convolution_theorem).\n",
      "\n",
      "To explore this concept, first let's define a convolution of two functions, *h* and *e* as follows:\n",
      "\n",
      "$$f(t)=h(t)*e(t)$$\n",
      "\n",
      "Where the '*' symbol will represent the convolution. The Convolution Theorem states that the FT of the convolved function is equivalent to the product of the FT of *h* and *e*, which we will call *H* and *E* respecively. \n",
      "\n",
      "$$F( \\nu ) = \\mathrm{FT}( f(t) ) = H( \\nu )\\cdot E( \\nu )$$\n",
      "\n",
      "The convolution of two functions in time space can then be calculated by doing the multiplication of the FT of each function followed by an inverse FT on the product. This equality is especially useful in signal processing. It turns out that the convolution operation is extrememly computationally demanding, but a multiplication is trivial. So you can use this relationship to calculate the convolution of two functions much more rapidly. Let's explore this by looking at a couple of simulations.\n",
      "\n",
      "First read in some external libraries, our plotting fucntions, and define some standard parameters for our simulated spectra."
     ]
    },
    {
     "cell_type": "code",
     "collapsed": false,
     "input": [
      "%pylab inline\n",
      "%run plotting.py\n",
      "import scipy.signal as sps\n",
      "\n",
      "acq_time = 1. # Seconds\n",
      "npoints = 2**17 # Best if this is an exact multiple of 2\n",
      "\n",
      "times = np.linspace(0, acq_time, npoints)\n",
      "timestep = acq_time/npoints\n",
      "\n",
      "freqs = np.fft.fftfreq(npoints, d=timestep)\n",
      "asort = freqs.argsort()"
     ],
     "language": "python",
     "metadata": {},
     "outputs": []
    },
    {
     "cell_type": "markdown",
     "metadata": {},
     "source": [
      "Let's make a cosine and Gaussian function using the equations that we saw in the Fourier Intro and Common FT notebooks."
     ]
    },
    {
     "cell_type": "code",
     "collapsed": false,
     "input": [
      "### Cosine function ###\n",
      "frequency = 40  # Hertz, leave this as an integer for the time being\n",
      "freq_rad = 2*np.pi*frequency\n",
      "cos_spec = np.cos(freq_rad*times)\n",
      "dual_plot_time(times, cos_spec, 0, 0.1)\n",
      "\n",
      "### Guassian function ###\n",
      "def gaussian(x, height, width, position):\n",
      "    exponent = -((x - position)**2)/(2.*(width**2))\n",
      "    return height*np.exp(exponent)\n",
      "\n",
      "width = 0.11\n",
      "fwhm = 2*np.sqrt(2*np.log(2))*width\n",
      "gauss = gaussian(times, 1., width, 0.)\n",
      "\n",
      "plt.figure()\n",
      "plt.plot(times, gauss)"
     ],
     "language": "python",
     "metadata": {},
     "outputs": []
    },
    {
     "cell_type": "markdown",
     "metadata": {},
     "source": [
      "## Standard vs FT Convolution \n",
      "\n",
      "As we've seen before, we can calculate a convolution of two functions using the [convolution function](http://docs.scipy.org/doc/numpy/reference/generated/numpy.convolve.html) built into Numpy. (Rememeber that 'same' keeps the number of points equivalent to the input number, and that we should normalize one of the functions by its integrated area for reasons described in the Convolution notebook.)"
     ]
    },
    {
     "cell_type": "code",
     "collapsed": false,
     "input": [
      "%time np_conv = np.convolve(cos_spec, gauss/gauss.sum(), 'same')\n",
      "\n",
      "plt.plot(times, np_conv)"
     ],
     "language": "python",
     "metadata": {},
     "outputs": []
    },
    {
     "cell_type": "markdown",
     "metadata": {},
     "source": [
      "As you can see, this was quite slow. However, Scipy defines an [FT version of the convolution](http://docs.scipy.org/doc/scipy/reference/generated/scipy.signal.fftconvolve.html) for use in signal processing. This function takes advantage of the Convolution Theorem described above, and it is much faster."
     ]
    },
    {
     "cell_type": "code",
     "collapsed": false,
     "input": [
      "%time sp_conv = sps.fftconvolve(cos_spec, gauss/gauss.sum(), 'same')\n",
      "\n",
      "plt.plot(times, sp_conv)"
     ],
     "language": "python",
     "metadata": {},
     "outputs": []
    },
    {
     "cell_type": "markdown",
     "metadata": {},
     "source": [
      "## New FT Pairs Using Time Domain Multiplication\n",
      "\n",
      "The above equality is very useful, but there is another aspect of the Convolution Theorem that is even more important for our purposes. As we saw earlier, the convolution of two spectra in time space is equivalent to the multiplication of the corresponding FT spectra. Well, the converse is also true. The multiplication of two functions in time space is equivalent to the convolution of the corresponding FT spectra.\n",
      "\n",
      "$$f(t) = h(t) \\cdot e(t)$$\n",
      "\n",
      "$$F( \\nu ) = F( f(t) ) = H( \\nu ) * E( \\nu )$$\n",
      "\n",
      "Why is this important? Because this allows us to generate a large range of FT spectra by simply multiplying two (or more) time domain spectra! \n",
      "\n",
      "### Cosine and Gaussian Function\n",
      "\n",
      "Let's explore this aspect of the Convolution Theorem again using our cosine and Gaussian functions. First, let's recalculate the FT of our cosine and Gaussian functions for later reference."
     ]
    },
    {
     "cell_type": "code",
     "collapsed": false,
     "input": [
      "cos_ft = np.fft.fft(cos_spec)\n",
      "dual_plot_ft(freqs, cos_ft, asort, -100, 100)\n",
      "\n",
      "gauss_ft = np.fft.fft(gauss)\n",
      "dual_plot_ft(freqs, gauss_ft, asort, -100, 100)"
     ],
     "language": "python",
     "metadata": {},
     "outputs": []
    },
    {
     "cell_type": "code",
     "collapsed": false,
     "input": [
      "cos_gauss = cos_spec*gauss\n",
      "dual_plot_time(times, cos_gauss, 0, 0.3)\n",
      "\n",
      "cos_gauss_ft = np.fft.fft(cos_gauss)\n",
      "dual_plot_ft(freqs, cos_gauss_ft, asort, -100, 100)"
     ],
     "language": "python",
     "metadata": {},
     "outputs": []
    },
    {
     "cell_type": "markdown",
     "metadata": {},
     "source": [
      "What has changed? We still have mirrored peaks at positive and negative frquencies in the real spectrum, but now each of these peaks has a Gaussian shape! In addition, we now see that we must have dispersive peaks in the imaginary spectrum as well, just like our pure Gaussian function.\n",
      "\n",
      "To double check this result, let's perform a convolution on the individual FT spectra. We have to do a couple of tricky things here in terms of the data that we input into the convolution function. Do you see what's happening here? We have to make sure that our FT data is sorted when we send it to the convolution function, otherwise things are really going to get messed up. That also means that our convolved FT spectrum is also going to be sorted, so we need to replot without sorting the convolved FT data."
     ]
    },
    {
     "cell_type": "code",
     "collapsed": false,
     "input": [
      "conv_ft = sps.fftconvolve(cos_ft[asort], gauss_ft[asort]/gauss_ft.sum(), 'same')\n",
      "\n",
      "plt.figure(figsize=(12,4))\n",
      "ax1 = plt.subplot(121)\n",
      "plt.plot(freqs[asort], conv_ft.real)\n",
      "\n",
      "ax2 = plt.subplot(122, sharex=ax1)\n",
      "plt.plot(freqs[asort], conv_ft.imag)\n",
      "plt.xlim(-100, 100)"
     ],
     "language": "python",
     "metadata": {},
     "outputs": []
    },
    {
     "cell_type": "markdown",
     "metadata": {},
     "source": [
      "### Cosine and Exponential Decay\n",
      "\n",
      "Next, we can look at the product of the cosine function with an exponential decay function, which is very similar to our Gaussian case above. However, remember the FT of an exponential decay is a Lorentzian function, which has some important differences when compared to a Gaussian function. (See the Common FTs notebook for a description of the Lorentzian function.)"
     ]
    },
    {
     "cell_type": "code",
     "collapsed": false,
     "input": [
      "lam = 0.1\n",
      "edecay = np.exp(-times*np.log(2.)/lam)\n",
      "plt.plot(times, edecay)\n",
      "\n",
      "ft_edecay = np.fft.fft(edecay)\n",
      "dual_plot_ft(freqs, ft_edecay, asort, -100, 100)"
     ],
     "language": "python",
     "metadata": {},
     "outputs": []
    },
    {
     "cell_type": "markdown",
     "metadata": {},
     "source": [
      "Let's compare these FT spectra to what we obtain when you multiply both the time domain spectra followed by FT."
     ]
    },
    {
     "cell_type": "code",
     "collapsed": false,
     "input": [
      "cos_edecay = cos_spec*edecay\n",
      "plt.plot(times, cos_edecay)\n",
      "\n",
      "cos_edecay_ft = np.fft.fft(cos_edecay)\n",
      "dual_plot_ft(freqs, cos_edecay_ft, asort, -100, 100)"
     ],
     "language": "python",
     "metadata": {},
     "outputs": []
    },
    {
     "cell_type": "markdown",
     "metadata": {},
     "source": [
      "Again, we see that when you multiply the two spectra in the time domain, the resulting FT data has properties of both starting functions: the frequencies of the cosine function and the peak shape and imaginary components of the Lorentzian line."
     ]
    },
    {
     "cell_type": "markdown",
     "metadata": {},
     "source": [
      "### Cosine and Rectangle Function\n",
      "\n",
      "Let's look at the rectangle function and its FT that we saw in the Common FT notebook. Remember that the FT of this function is a sync function in frequency space."
     ]
    },
    {
     "cell_type": "code",
     "collapsed": false,
     "input": [
      "ones_length = 3.0e-1 # seconds\n",
      "mask = times > ones_length\n",
      "ones = np.ones( len(times) )\n",
      "ones[mask] = 0\n",
      "print npoints - mask.sum()\n",
      "\n",
      "plt.plot(times, ones)\n",
      "plt.ylim(-0.05, 1.05)\n",
      "\n",
      "ft_ones = np.fft.fft(ones)\n",
      "print '%.4f Hertz width at half height' % (0.6/ones_length)\n",
      "dual_plot_ft(freqs, ft_ones, asort, -100, 100)"
     ],
     "language": "python",
     "metadata": {},
     "outputs": []
    },
    {
     "cell_type": "markdown",
     "metadata": {},
     "source": [
      "Let's look that the product of the rectangle pulse and our cosine funcition in both time and FT space."
     ]
    },
    {
     "cell_type": "code",
     "collapsed": false,
     "input": [
      "cos_ones = cos_spec*ones\n",
      "dual_plot_time(times, cos_ones, 0, 0.15)\n",
      "\n",
      "cos_ones_ft = np.fft.fft(cos_ones)\n",
      "dual_plot_ft(freqs, cos_ones_ft, asort, 0, 80)"
     ],
     "language": "python",
     "metadata": {},
     "outputs": []
    },
    {
     "cell_type": "markdown",
     "metadata": {},
     "source": [
      "We now have a sync function centered at the cosine frequency with a width that is dictated by the rectangle function duration."
     ]
    },
    {
     "cell_type": "markdown",
     "metadata": {},
     "source": [
      "### Window (Apodization) Functions\n",
      "\n",
      "Multiplying functions in the time domain to manipulate their properties in Fourier space is a common data maniupulation technique, which is typicalled refered to as [windowing or apodization](http://en.wikipedia.org/wiki/Window_function). \n",
      "\n",
      "For example in the case above, you could imagine that the sudden truncation of signal could be due to a short signal acquisition time. Unfortunately, the resulting sync functions are very broad with many oscillations in the frequency domain, making closely separated peaks difficult to quantify. Let's look at an example of this below."
     ]
    },
    {
     "cell_type": "code",
     "collapsed": false,
     "input": [
      "frequency2 = 46  # Hertz, leave this as an integer for the time being\n",
      "freq_rad2 = 2*np.pi*frequency2\n",
      "cos_spec2 = np.cos(freq_rad*times) + np.cos(freq_rad2*times)\n",
      "\n",
      "cos_trunc2 = cos_spec2*ones\n",
      "\n",
      "dual_plot_time(times, cos_spec2, 0, 0.4)\n",
      "dual_plot_time(times, cos_trunc2, 0, 0.4)"
     ],
     "language": "python",
     "metadata": {},
     "outputs": []
    },
    {
     "cell_type": "markdown",
     "metadata": {},
     "source": [
      "When we take the FT of this truncated siganl, we still see two peak maxima in the real spectrum, but they are now considerably overlapped."
     ]
    },
    {
     "cell_type": "code",
     "collapsed": false,
     "input": [
      "cos_trunc2_ft = np.fft.fft(cos_trunc2)\n",
      "\n",
      "dual_plot_ft(freqs, cos_trunc2_ft, asort, 10, 80)"
     ],
     "language": "python",
     "metadata": {},
     "outputs": []
    },
    {
     "cell_type": "markdown",
     "metadata": {},
     "source": [
      "We can remove a lot of these 'sinc wiggles' by multiplying the time domain signal by an exponential decay function. If the exponential decay is fast enough, then the effects of the trunctation to zero will be minimized."
     ]
    },
    {
     "cell_type": "code",
     "collapsed": false,
     "input": [
      "lam2 = 0.1\n",
      "edecay2 = np.exp(-times*np.log(2.)/lam2)\n",
      "\n",
      "cos_trunc_ed2 = cos_trunc2*edecay2\n",
      "dual_plot_time(times, cos_trunc_ed2, 0, 0.15)\n",
      "\n",
      "cos_trunc_ed2_ft = np.fft.fft(cos_trunc_ed2)\n",
      "print '%.4f Hertz width at half height' % (1./(np.pi*lam2))\n",
      "dual_plot_ft(freqs, cos_trunc_ed2_ft, asort, 0, 80)"
     ],
     "language": "python",
     "metadata": {},
     "outputs": []
    },
    {
     "cell_type": "markdown",
     "metadata": {},
     "source": [
      "Of course, there is a drawback in that the exponential decay function has a large linewidth, which increase with the rate of decay in the time domain (lambda). For that reason, this particular apodization function is commonly called a line broadening function. (In NMR, it is common to refer to this function by the amount of broading it will apply to the signals: e.g. a 2 Hz line broadening.)"
     ]
    },
    {
     "cell_type": "markdown",
     "metadata": {},
     "source": [
      "## Overlapping Peaks \n",
      "\n",
      "At this point, it can again be useful to overlay the Gaussian and Lorentzian peaks to revisit our discussion of peak shape. This has important consequences, especially for spectra where you need to integrate the relative areas of peaks. In this section, we'll see that by judicious application of apodization functions, the signals can be manipulated to extract out more quantitative information."
     ]
    },
    {
     "cell_type": "code",
     "collapsed": false,
     "input": [
      "plt.plot(freqs[asort], cos_gauss_ft.real[asort])\n",
      "\n",
      "print 'Gaussian Info:'\n",
      "print '%.4f Hertz width at half height' % ( 1./(np.sqrt(2*np.log(2))*fwhm) ) \n",
      "plt.plot(freqs[asort], cos_edecay_ft.real[asort])\n",
      "print 'Lortentzian Info:'\n",
      "print '%.4f Hertz width at half height' % (1./(np.pi*lam))\n",
      "plt.xlim(0, 80)"
     ],
     "language": "python",
     "metadata": {},
     "outputs": []
    },
    {
     "cell_type": "markdown",
     "metadata": {},
     "source": [
      "In NMR, for example, nuclear spins naturally relax to equilibrium by an exponential decay mechanism, so the line shape of an NMR signal will be Lorentzian. However, Lorentzian lines have a large amount of area spread out across the base. If you need to acurately integrate two closely spaced peaks, this can lead to some errors. An example of two closely spaced exponentially-decaying cosine functions is shown below."
     ]
    },
    {
     "cell_type": "code",
     "collapsed": false,
     "input": [
      "frequency2 = 49  # Hertz, leave this as an integer for the time being\n",
      "freq_rad2 = 2*np.pi*frequency2\n",
      "cos_spec2 = np.cos(freq_rad*times) + 3.5*np.cos(freq_rad2*times)\n",
      "\n",
      "cos_spec2_ed = cos_spec2*edecay\n",
      "\n",
      "dual_plot_time(times, cos_spec2, 0, 0.4)\n",
      "dual_plot_time(times, cos_spec2_ed, 0, 0.4)"
     ],
     "language": "python",
     "metadata": {},
     "outputs": []
    },
    {
     "cell_type": "markdown",
     "metadata": {},
     "source": [
      "The FT spectrum of this function is as you would expect: two equal intensity peaks with Lorentzian line shapes. For the most part, these peaks are resolved, but there is a considerable amount of overlap between the peaks which will affect integration."
     ]
    },
    {
     "cell_type": "code",
     "collapsed": false,
     "input": [
      "cos_spec2_ed_ft = np.fft.fft(cos_spec2_ed)\n",
      "dual_plot_ft(freqs, cos_spec2_ed_ft, asort, 10, 80)"
     ],
     "language": "python",
     "metadata": {},
     "outputs": []
    },
    {
     "cell_type": "markdown",
     "metadata": {},
     "source": [
      "If you know the properties of the exponential decay (by visual inspection or non-linear fitting), you can reverse the effects of the exponential decay by dividing the time domain data by the exponential decay function. Multiplying the time domain data by a new Gaussian function gives you a modified spectrum that has Gaussian, rather than Lorentzian, characteristics."
     ]
    },
    {
     "cell_type": "code",
     "collapsed": false,
     "input": [
      "cos_spec2_rev = cos_spec2_ed/edecay # This assumes that you can match the exponential decay exactly.\n",
      "cos_gauss2 = cos_spec2_rev*gauss\n",
      "\n",
      "dual_plot_time(times, cos_gauss2, 0, 0.4)\n",
      "\n",
      "cos_gauss2_ft = np.fft.fft(cos_gauss2)\n",
      "dual_plot_ft(freqs, cos_gauss2_ft, asort, 0, 80)"
     ],
     "language": "python",
     "metadata": {},
     "outputs": []
    },
    {
     "cell_type": "markdown",
     "metadata": {},
     "source": [
      "Plotting the original Lorentzian data against the Gaussian data illustrates the utility of this process."
     ]
    },
    {
     "cell_type": "code",
     "collapsed": false,
     "input": [
      "plt.plot(freqs[asort], cos_gauss2_ft.real[asort])\n",
      "plt.plot(freqs[asort], cos_spec2_ed_ft.real[asort])\n",
      "plt.xlim(0, 80)"
     ],
     "language": "python",
     "metadata": {},
     "outputs": []
    },
    {
     "cell_type": "markdown",
     "metadata": {},
     "source": [
      "A caveat that is not discussed in detail here is spectral noise. The changes in signal-to-noise ratio may be unacceptable in some applications of this technique, so it would be good to explore this process in more detail before applying it to your data."
     ]
    },
    {
     "cell_type": "code",
     "collapsed": false,
     "input": [],
     "language": "python",
     "metadata": {},
     "outputs": []
    }
   ],
   "metadata": {}
  }
 ]
}