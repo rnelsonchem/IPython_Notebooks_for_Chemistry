{
 "metadata": {
  "name": "2b. Fourier Intro -- Sine and Cosine FTs"
 },
 "nbformat": 3,
 "nbformat_minor": 0,
 "worksheets": [
  {
   "cells": [
    {
     "cell_type": "code",
     "collapsed": false,
     "input": [
      "%pylab inline\n",
      "import plotting2 as pt"
     ],
     "language": "python",
     "metadata": {},
     "outputs": []
    },
    {
     "cell_type": "markdown",
     "metadata": {},
     "source": [
      "<script type=\"text/javascript\">\n",
      "    var div_cell = \"div.cell.text_cell{ width:1000px; margin-left:auto; margin-right:auto;}\"\n",
      "    $('head').append( \"<style type='text/css'>\" + div_cell + \"</style>\");\n",
      "</script>\n",
      "# Fourier Transformation of Simple Sine and Cosine Functions\n",
      "\n",
      "## FT of a Cosine Function\n",
      "\n",
      "Generate a simulated cosine spectrum. For reasons discussed later, it is best that the frequency is an integer multiple of 2*&#960;. In this case, we need to decide how long we will acquire our data and the number of points that will be collected. Although any number of points can be used with the FFT algorithm, it is most efficient when the number of points is a power of two (See Notebook 2a). \n",
      "\n",
      "In our simulation, we'll use a single frequency in Hertz. This needs to get converted into radians (rad = 2*&#960;*freq). Then we'll generate a cosine function that spans our time range at the particular frequency that we have defined (cos(rad*time)). We'll make a plot of the full simulation (right) and a zoomed in region (left) at the end of this block, using the *dual\\_plot\\_time* function. The details of this function can be examined in the file *plotting.py*.  \n",
      "\n",
      "<u>Variables</u>:\n",
      "\n",
      "* *acq\\_time*: The total time in seconds that we will let our sinusoidal functions oscillate.\n",
      "\n",
      "* *npoints*: This is the total number of points that we will use for our simulations. It's best if this is a multiple of two.\n",
      "\n",
      "* *time*: This is an array of time data that will be used as our x-axis.\n",
      "\n",
      "* *frequency*: The frequency in Hertz of our sinusoidal functions. Best to leave this as an integer value.\n",
      "\n",
      "* *freq\\_rad*: The frequency value converted to radians.\n",
      "\n",
      "* *cos\\_spec*: The simulated cosine function which has the defined frequency determined at each time point."
     ]
    },
    {
     "cell_type": "code",
     "collapsed": false,
     "input": [
      "acq_time = 1. \n",
      "npoints = 2**17 \n",
      "time = np.linspace(0, acq_time, npoints) \n",
      "frequency = 40  \n",
      "freq_rad = 2*np.pi*frequency\n",
      "cos_spec = np.cos(freq_rad*time)\n",
      "\n",
      "pt.dual_plot_time(time, cos_spec, xmin=0, xmax=0.1)"
     ],
     "language": "python",
     "metadata": {},
     "outputs": []
    },
    {
     "cell_type": "markdown",
     "metadata": {},
     "source": [
      "Next well use [Numpy's fast Fourier transform routine](http://docs.scipy.org/doc/numpy/reference/generated/numpy.fft.fft.html) to calculate the Fourier transform (FT) of our simulated spectrum. At this point, notice that this function only requires the intenstiy data (y data) and not the time data (x axis). This is a limitation of the Fourier transform: there is no specific time information in the transformation. In addition, there is an assumption that the data are equally spaced in time! If you have unequally spaced data, you need to either [reinterpolate](http://docs.scipy.org/doc/scipy/reference/interpolate.html) the data onto a equally spaced grid or use an alternative method to the FT (e.g. [least squares spectral analysis](http://en.wikipedia.org/wiki/Least-squares_spectral_analysis) which is [implemented in Scipy](http://docs.scipy.org/doc/scipy/reference/tutorial/signal.html#lomb-scargle-periodograms-spectral-lombscargle)).\n",
      "\n",
      "In order to properly display these data, we also need to calculate the appropriate frequencies for each FT data point. The equation necessary to calculate frequencies is given below (for an even number of data points):\n",
      "\n",
      "$$f = \\dfrac{[0, 1, ... , n/2 - 1, -n/2, ..., -1]}{n*d}$$\n",
      "\n",
      "Where n is the number of data points in the time domain and d is the time delay between points. Does this equation look familiar? How about the *m* values for Equation 5 in Notebook 2a. Notice, this is also the first instance where any specific time information about our system is being incorporated. Since Numpy uses the original [Cooley-Tukey FFT algorithm](http://en.wikipedia.org/wiki/Cooley%E2%80%93Tukey_FFT_algorithm), this frequency ordering is necessary to obtain the symmetric FT array that we saw in our 4 point case in Notebook 2a. \n",
      "\n",
      "Fortunately, Numpy has a convenience function, [*fftfreq*](http://docs.scipy.org/doc/numpy/reference/generated/numpy.fft.fftfreq.html), that can do this calculation for us. This function needs to know the number of points in the original data set and the time step, which is the length of time between each data point.\n",
      "\n",
      "Again, let's make a nice dual-wide plot of our FT data using the *dual\\_plot\\_ft* function. The FT is a complex transformation, so the computed results contain both real (left plot) and imaginary (right plot) components. In the case of a pure cosine input wave, the FT does not contain any (appreciable) imagainary components. You may see some small contamination because of the discrete nature of the FFT, but this is the most realistic spectroscopic situation. We've zoomed in substantially on the x axis, because the range of frequencies is very high (you can remove the xmin or xmax values from the plotting function to see how high the frequencies go). \n",
      "\n",
      "Notice that we have two peaks in the real spectrum: one at a positive value and one at the same value but negative. What is going on here? Is there a problem?\n",
      "\n",
      "<u>Variables</u>:\n",
      "    \n",
      "* *ft\\_cos*: This is the FFT data for our cosine function, which we defined above. (y-axis data)\n",
      "\n",
      "* *timestep*: This is the delay in seconds between each discrete time point.\n",
      "\n",
      "* *freqs*: The discrete frequencies for each of our cosine FFT data. (x-axis data)"
     ]
    },
    {
     "cell_type": "code",
     "collapsed": false,
     "input": [
      "ft_cos = np.fft.fft(cos_spec)\n",
      "timestep = acq_time/npoints\n",
      "freqs = np.fft.fftfreq(npoints, d=timestep)\n",
      "\n",
      "pt.dual_plot_ft(freqs, ft_cos, xmin=-100, xmax=100)"
     ],
     "language": "python",
     "metadata": {},
     "outputs": []
    },
    {
     "cell_type": "markdown",
     "metadata": {},
     "source": [
      "## FT of a Sine Function\n",
      "\n",
      "Next, let's look at the sine function case. Make a new sine function in the same way that we made the previous cosine function, with the same frequency component.\n",
      "\n",
      "<u>Variable</u>:\n",
      "\n",
      "* *sin\\_spec*: The simulated sine function which has the defined frequency determined at each time point. "
     ]
    },
    {
     "cell_type": "code",
     "collapsed": false,
     "input": [
      "sin_spec = np.sin(freq_rad*time)\n",
      "\n",
      "pt.dual_plot_time(time, sin_spec, xmin=0.0, xmax=0.1)"
     ],
     "language": "python",
     "metadata": {},
     "outputs": []
    },
    {
     "cell_type": "markdown",
     "metadata": {},
     "source": [
      "Next, perform the FT of the sine function to see how it differs from a cosine function. In this case, you do not see any (appreciable) real data, but there are two frequencies in the imaginary spectrum: a positive peak at negative frequencies and a negative peak at positive frequencies. What's going on here?\n",
      "\n",
      "<u>Variable</u>:\n",
      "\n",
      "* *ft\\_spec*: This is the FFT data for our simple sine function. "
     ]
    },
    {
     "cell_type": "code",
     "collapsed": false,
     "input": [
      "ft_sin = np.fft.fft(sin_spec)\n",
      "\n",
      "pt.dual_plot_ft(freqs, ft_sin, xmin=-100, xmax=100)"
     ],
     "language": "python",
     "metadata": {},
     "outputs": []
    },
    {
     "cell_type": "markdown",
     "metadata": {},
     "source": [
      "## FT of Complex Data\n",
      "\n",
      "Now we've seen both cases where we have real cosine and sine functions; however, the FFT can handle complex inputs as well. What do the FT data of complex inputs look like?\n",
      "\n",
      "First, let's perform an FT of a mixture of real cosine and imaginary sine functions. As you can see, we now know the exact frequency and the sign of the intensity is correct. How is this possible?\n",
      "\n",
      "<u>Variable</u>:\n",
      "\n",
      "* *ft\\_cps*: This is the FFT data for a complex data set containing a real cosine function plus and imaginary sine function. (The *1j* multiplication of *sin\\_spec* is equvalent to multiplying by $\\sqrt{-1}$)"
     ]
    },
    {
     "cell_type": "code",
     "collapsed": false,
     "input": [
      "ft_cps = np.fft.fft(cos_spec + sin_spec*1j)\n",
      "\n",
      "pt.dual_plot_ft(freqs, ft_cps, xmin=-100, xmax=100)"
     ],
     "language": "python",
     "metadata": {},
     "outputs": []
    },
    {
     "cell_type": "markdown",
     "metadata": {},
     "source": [
      "Using this same procedure, we can examine some of the other complex combinations of sine and cosine functions."
     ]
    },
    {
     "cell_type": "code",
     "collapsed": false,
     "input": [
      "ft_cms = np.fft.fft(cos_spec - sin_spec*1j)\n",
      "\n",
      "pt.dual_plot_ft(freqs, ft_cms, xmin=-100, xmax=100)"
     ],
     "language": "python",
     "metadata": {},
     "outputs": []
    },
    {
     "cell_type": "code",
     "collapsed": false,
     "input": [
      "ft_spc = np.fft.fft(sin_spec + cos_spec*1j)\n",
      "\n",
      "pt.dual_plot_ft(freqs, ft_spc, xmin=-100, xmax=100)"
     ],
     "language": "python",
     "metadata": {},
     "outputs": []
    },
    {
     "cell_type": "code",
     "collapsed": false,
     "input": [
      "ft_smc = np.fft.fft(sin_spec - cos_spec*1j)\n",
      "\n",
      "pt.dual_plot_ft(freqs, ft_smc, xmin=-100, xmax=100)"
     ],
     "language": "python",
     "metadata": {},
     "outputs": []
    },
    {
     "cell_type": "markdown",
     "metadata": {},
     "source": [
      "## Multiple Frequencies\n",
      "\n",
      "What happens when there are multiple sinusoidal components in the same spectrum? \n",
      "\n",
      "To test this out, let's make a new function that is a mixture of a couple of frequencies.\n",
      "\n",
      "Varibles:\n",
      "\n",
      "* *frequency2*: This is our second frequency in Hertz. Again it is best that this is an integer value.\n",
      "\n",
      "* *freq\\_rad2*: Convert the second frequency into radians.\n",
      "\n",
      "* *cos\\_spec2*: Create our simulated spectrum, which is an addition of the two cosine functions at different frequencies."
     ]
    },
    {
     "cell_type": "code",
     "collapsed": false,
     "input": [
      "frequency2 = 55 \n",
      "freq_rad2 = 2*np.pi*frequency2\n",
      "cos_spec2 = np.cos(freq_rad*time) + np.cos(freq_rad2*time)\n",
      "\n",
      "pt.dual_plot_time(time, cos_spec2, xmin=0.0, xmax=0.1)"
     ],
     "language": "python",
     "metadata": {},
     "outputs": []
    },
    {
     "cell_type": "markdown",
     "metadata": {},
     "source": [
      "Now, do the FT of this data and look at the resulting frequency spectrum. As you might expect, there are now multiple frequency componenents, and because this spectrum is only composed of real cosine functions, we see both positive and negative frequency compoenent in only the real portion of the FT data."
     ]
    },
    {
     "cell_type": "code",
     "collapsed": false,
     "input": [
      "ft_cos2 = np.fft.fft(cos_spec2)\n",
      "\n",
      "pt.dual_plot_ft(freqs, ft_cos2, xmin=-100, xmax=100)"
     ],
     "language": "python",
     "metadata": {},
     "outputs": []
    },
    {
     "cell_type": "markdown",
     "metadata": {},
     "source": [
      "Let's look at another related situtation. What happens when the intensities of the compenents are different? \n",
      "\n",
      "This can also be simulated fairly easily. Let's multiply one of our cosine functions by a constant."
     ]
    },
    {
     "cell_type": "code",
     "collapsed": false,
     "input": [
      "cos_spec3 = 5*np.cos(freq_rad*time) + np.cos(freq_rad2*time)\n",
      "\n",
      "pt.dual_plot_time(time, cos_spec3, xmin=0.0, xmax=0.1)"
     ],
     "language": "python",
     "metadata": {},
     "outputs": []
    },
    {
     "cell_type": "markdown",
     "metadata": {},
     "source": [
      "The FT of this new simulated data still contains two frequency components; however, the intensity of the two peaks is different by the ratio defined in our simulation. As it turns out, the integrated area under these peaks also has the same ratio. In real systems, the areas and not intensities are much better indicators of the relative amounts of each frequency componenent."
     ]
    },
    {
     "cell_type": "code",
     "collapsed": false,
     "input": [
      "ft_cos3 = np.fft.fft(cos_spec3)\n",
      "\n",
      "pt.dual_plot_ft(freqs, ft_cos3, xmin=-100, xmax=100)"
     ],
     "language": "python",
     "metadata": {},
     "outputs": []
    },
    {
     "cell_type": "markdown",
     "metadata": {},
     "source": [
      "## Inverse FT\n",
      "\n",
      "The FT is a reversible process, so if you are given a spectrum of frequencies, you can convert those into a time-domain spectrum as well. The Numpy inverse Fourier Transform functions all begin with 'i', so [*ifft*](http://docs.scipy.org/doc/numpy/reference/generated/numpy.fft.ifft.html) will reverse our eariler FT data. However, the FT and its reverse are both complex transformations. Even though we started with purely real data, the reverse transform returns a complex data set. The imaginary component has a very small, but non-zero, intensity because of floating point errors. (Notice the y axis limits on the lower plot of imaginary data, though. They are very small (1e-14) relative to the real data.)"
     ]
    },
    {
     "cell_type": "code",
     "collapsed": false,
     "input": [
      "rev_cos3 = np.fft.ifft(ft_cos3)\n",
      "\n",
      "pt.dual_plot_time(time, rev_cos3.real, xmin=0.0, xmax=0.1) # Plot real data first\n",
      "pt.dual_plot_time(time, rev_cos3.imag, xmin=0.0, xmax=0.1) # Plot imaginary data second"
     ],
     "language": "python",
     "metadata": {},
     "outputs": []
    },
    {
     "cell_type": "code",
     "collapsed": false,
     "input": [],
     "language": "python",
     "metadata": {},
     "outputs": []
    }
   ],
   "metadata": {}
  }
 ]
}