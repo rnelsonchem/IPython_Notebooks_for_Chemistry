{
 "metadata": {
  "name": "6. Nyquist, Zeros, Clipping, and Phasing"
 },
 "nbformat": 3,
 "nbformat_minor": 0,
 "worksheets": [
  {
   "cells": [
    {
     "cell_type": "markdown",
     "metadata": {},
     "source": [
      "# Nyquist, Zeros, Clipping, and Phasing\n",
      "\n",
      "There are several things that we need to keep in mind about the FT of discrete, digitized data sets. For example, there are frequency limitations because of the digital nature of the data, and we have to watch out for intensity truncations as well. However, we can artifically extend our data in the time dimmension, which has some advantages in terms of frequency resolution.\n",
      "\n",
      "As a first set, let's set up a bunch of our starting values that we've used in all the other notebooks."
     ]
    },
    {
     "cell_type": "code",
     "collapsed": false,
     "input": [
      "# import Numpy as Matplotlib with inline figures\n",
      "%pylab inline \n",
      "\n",
      "# Set up some generic values for all of our spectra in this notebook.\n",
      "acq_time = 1. # Seconds\n",
      "npoints = 2**17 # Best if this is an exact multiple of 2\n",
      "\n",
      "times = np.linspace(0, acq_time, npoints)\n",
      "timestep = acq_time/npoints\n",
      "freqs = np.fft.fftfreq(times.size, d=timestep)\n",
      "asort = freqs.argsort()"
     ],
     "language": "python",
     "metadata": {},
     "outputs": []
    },
    {
     "cell_type": "markdown",
     "metadata": {},
     "source": [
      "Here's our generic plotting functions that we like to use all the time."
     ]
    },
    {
     "cell_type": "code",
     "collapsed": false,
     "input": [
      "def dual_plot_time(xdata, ydata, xmin=None, xmax=None):\n",
      "    plt.figure(figsize=(12,4))\n",
      "    ax1 = plt.subplot(121)\n",
      "    plt.plot(xdata, ydata)\n",
      "\n",
      "    plt.subplot(122, sharey=ax1)\n",
      "    plt.plot(xdata, ydata)\n",
      "    plt.xlim(xmin, xmax)\n",
      "\n",
      "def dual_plot_ft(xdata, ydata, sort_idx, xmin=None, xmax=None):\n",
      "    plt.figure(figsize=(12,4))\n",
      "    ax1 = plt.subplot(121)\n",
      "    plt.plot(xdata[sort_idx], ydata.real[sort_idx])\n",
      "\n",
      "    plt.subplot(122, sharey=ax1, sharex=ax1)\n",
      "    plt.plot(xdata[sort_idx], ydata.imag[sort_idx])\n",
      "    plt.xlim(xmin, xmax)"
     ],
     "language": "python",
     "metadata": {},
     "outputs": []
    },
    {
     "cell_type": "markdown",
     "metadata": {},
     "source": [
      "## Nyquist Criterion\n",
      "\n",
      "When dealing with digital data, there is an important considertation that you must keep in mind about the range of frequencies we can observe. We've already seen an example of the affect on the frequencies as we truncate the data using rectangle pulses or by multiplying by apodization functions. "
     ]
    },
    {
     "cell_type": "code",
     "collapsed": false,
     "input": [
      "freq = 50\n",
      "skip = 2**8\n",
      "print 'Looking at every %d data point' % skip\n",
      "\n",
      "cos = np.cos(2*np.pi*freq*times)\n",
      "\n",
      "plt.plot(times, cos)\n",
      "#plt.plot(times[::skip], cos[::skip], 'o')\n",
      "plt.plot(times[::skip], cos[::skip], 'o-', lw=2)\n",
      "plt.xlim(0, 0.3)"
     ],
     "language": "python",
     "metadata": {},
     "outputs": []
    },
    {
     "cell_type": "code",
     "collapsed": false,
     "input": [
      "freq_a = 10000.\n",
      "freq_b = 70000.\n",
      "lb = 7.5\n",
      "\n",
      "cos2_ny = np.cos(2*np.pi*freq_a*times) + np.cos(2*np.pi*freq_b*times)\n",
      "cos_em = cos2_ny*np.exp(-times*lb)\n",
      "\n",
      "cos_ft = np.fft.fft( cos_em )\n",
      "\n",
      "dual_plot_time(times, cos_em, 0, 0.01)\n",
      "dual_plot_ft(freqs, cos_ft, asort, 0, 66000)\n",
      "print 'Maximum frequency:', freqs.max()"
     ],
     "language": "python",
     "metadata": {},
     "outputs": []
    },
    {
     "cell_type": "markdown",
     "metadata": {},
     "source": [
      "## Zero Filling\n"
     ]
    },
    {
     "cell_type": "code",
     "collapsed": false,
     "input": [
      "freq1 = 12000. # Hertz\n",
      "freq2 = 12001.75 \n",
      "lb = 7.5\n",
      "\n",
      "cos2 = 4*np.cos(2*np.pi*freq1*times) + 4.*np.cos(2*np.pi*freq2*times)\n",
      "cos2_em = cos2*np.exp(-times*lb)\n",
      "dual_plot_time(times, cos2_em, 0, 0.01)"
     ],
     "language": "python",
     "metadata": {},
     "outputs": []
    },
    {
     "cell_type": "code",
     "collapsed": false,
     "input": [
      "cos2_ft = np.fft.fft( cos2_em )\n",
      "\n",
      "#dual_plot_ft(freqs, cos2_ft, asort)\n",
      "dual_plot_ft(freqs, cos2_ft, asort, 11985, 12015)"
     ],
     "language": "python",
     "metadata": {},
     "outputs": []
    },
    {
     "cell_type": "code",
     "collapsed": false,
     "input": [
      "cos2_zf = np.r_[cos2_em, np.zeros(cos2_em.size) ]\n",
      "times_zf = np.linspace( 0, acq_time*2, npoints*2)\n",
      "\n",
      "dual_plot_time(times_zf, cos2_zf, 0.99, 1.01)\n",
      "plt.ylim(-0.01, 0.01)"
     ],
     "language": "python",
     "metadata": {},
     "outputs": []
    },
    {
     "cell_type": "code",
     "collapsed": false,
     "input": [
      "zfs = 1\n",
      "\n",
      "cos2_zf_ft = np.fft.fft( cos2_em, n=npoints*(2**zfs) )\n",
      "freqs2 = np.fft.fftfreq( cos2_zf_ft.size, d=timestep )\n",
      "asort2 = freqs2.argsort()\n",
      "\n",
      "dual_plot_ft(freqs, cos2_ft, asort, 11985, 12015)\n",
      "dual_plot_ft(freqs2, cos2_zf_ft, asort2, 11985, 12015)"
     ],
     "language": "python",
     "metadata": {},
     "outputs": []
    },
    {
     "cell_type": "markdown",
     "metadata": {},
     "source": [
      "## Clipping"
     ]
    },
    {
     "cell_type": "code",
     "collapsed": false,
     "input": [
      "freq_clip = 10000.\n",
      "lb = 7.5\n",
      "\n",
      "cos2_preclip = 2*np.cos(2*np.pi*freq_clip*times)\n",
      "cos2_preclip = cos2_preclip*np.exp(-lb*times)\n",
      "\n",
      "dual_plot_time( times, cos2_preclip, 0, 1)"
     ],
     "language": "python",
     "metadata": {},
     "outputs": []
    },
    {
     "cell_type": "code",
     "collapsed": false,
     "input": [
      "cos2_clip = cos2_preclip.copy()\n",
      "cos2_clip[ np.abs(cos2_clip) > 1. ] = 1.\n",
      "\n",
      "dual_plot_time( times, cos2_clip, 0, 0.1)\n",
      "plt.ylim(-2, 2)"
     ],
     "language": "python",
     "metadata": {},
     "outputs": []
    },
    {
     "cell_type": "code",
     "collapsed": false,
     "input": [
      "clip_ft = np.fft.fft( cos2_clip )\n",
      "\n",
      "dual_plot_ft(freqs, clip_ft, asort, 0, 30000)\n",
      "#plt.ylim(-200, 200)"
     ],
     "language": "python",
     "metadata": {},
     "outputs": []
    },
    {
     "cell_type": "markdown",
     "metadata": {},
     "source": [
      "# Phase shifting"
     ]
    },
    {
     "cell_type": "code",
     "collapsed": false,
     "input": [
      "freq_ph = 40.\n",
      "lb = 7.5\n",
      "shift = 0 # An integer number of points to shift off the left side of the time data.\n",
      "print 'The delay before acquiring first point: %0.4e seconds' % (shift*timestep)\n",
      "\n",
      "cos_ph = 2*np.cos(2*np.pi*freq_ph*times)\n",
      "cos_ph = cos_ph*np.exp(-lb*times)\n",
      "\n",
      "plt.figure(figsize=(12,4))\n",
      "ax1 = plt.subplot(121)\n",
      "ax1.plot(times, cos_ph)\n",
      "ax1.plot(times[shift:], cos_ph[shift:], lw=2)\n",
      "ax2 = plt.subplot(122, sharey=ax1)\n",
      "ax2.plot(times, cos_ph)\n",
      "ax2.plot(times[shift:], cos_ph[shift:], lw=2)\n",
      "ax2.set_xlim(0, 0.01)"
     ],
     "language": "python",
     "metadata": {},
     "outputs": []
    },
    {
     "cell_type": "code",
     "collapsed": false,
     "input": [
      "cos_ph_ft = np.fft.fft(cos_ph[shift:], n=npoints)\n",
      "\n",
      "dual_plot_ft(freqs, cos_ph_ft, asort, 0, 80)"
     ],
     "language": "python",
     "metadata": {},
     "outputs": []
    },
    {
     "cell_type": "code",
     "collapsed": false,
     "input": [],
     "language": "python",
     "metadata": {},
     "outputs": []
    }
   ],
   "metadata": {}
  }
 ]
}