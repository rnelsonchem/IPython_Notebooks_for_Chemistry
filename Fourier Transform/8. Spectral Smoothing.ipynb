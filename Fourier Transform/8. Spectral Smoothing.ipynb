{
 "metadata": {
  "name": "8. Spectral Smoothing"
 },
 "nbformat": 3,
 "nbformat_minor": 0,
 "worksheets": [
  {
   "cells": [
    {
     "cell_type": "markdown",
     "metadata": {},
     "source": [
      "<script type=\"text/javascript\">\n",
      "    var div_cell = \"div.cell.text_cell{ width:1000px; margin-left:auto; margin-right:auto;}\"\n",
      "    $('head').append( \"<style type='text/css'>\" + div_cell + \"</style>\");\n",
      "</script>\n",
      "\n",
      "# Spectral Smoothing\n",
      "\n",
      "In this notebook, we are going to explore the utility of the convolution and FT functions in the context of spectral smoothing. \n",
      "\n",
      "To start remember to import Numpy as Matplotlib (with inline plots) and [Scipy's signal](http://docs.scipy.org/doc/scipy/reference/signal.html) module, which has the fast [fftconvolve function](http://docs.scipy.org/doc/scipy/reference/generated/scipy.signal.fftconvolve.html#scipy.signal.fftconvolve)."
     ]
    },
    {
     "cell_type": "code",
     "collapsed": false,
     "input": [
      "%pylab inline\n",
      "import scipy.signal as sps"
     ],
     "language": "python",
     "metadata": {},
     "outputs": []
    },
    {
     "cell_type": "markdown",
     "metadata": {},
     "source": [
      "This is a slightly modified version of a [smoothing function](http://www.scipy.org/Cookbook/SignalSmooth) I found on the [Scipy Cookbook](http://www.scipy.org/Cookbook). This function folds the spectrum over at the edges to minimize the edge artifacts that you see using the 'same' argument to the convolution function."
     ]
    },
    {
     "cell_type": "code",
     "collapsed": false,
     "input": [
      "def smooth(x, window_len=11, window='hanning'): \n",
      "    \"\"\"Smooth the data using a window with requested size.  \n",
      "    \n",
      "    This method is based on the convolution of a scaled window with the\n",
      "    signal.  The signal is prepared by introducing reflected copies of the\n",
      "    signal (with the window size) in both ends so that transient parts are\n",
      "    minimized in the begining and end part of the output signal.\n",
      "\n",
      "    rcn - Removed a bunch of error checking to simplify code.\n",
      "    \n",
      "    input: x: the input signal window_len: the dimension of the smoothing\n",
      "    window; should be an odd integer window: the type of window from 'flat',\n",
      "    'hanning', 'hamming', 'bartlett', 'blackman' flat window will produce a\n",
      "    moving average smoothing.\n",
      "\n",
      "    output: the smoothed signal\n",
      "        \n",
      "    example:\n",
      "\n",
      "    t=linspace(-2,2,0.1) \n",
      "    x=sin(t)+randn(len(t))*0.1 \n",
      "    y=smooth(x)\n",
      "    \n",
      "    see also: \n",
      "    \n",
      "    numpy.hanning, numpy.hamming, numpy.bartlett, numpy.blackman,\n",
      "    scipy.signal.fftconvolve scipy.signal.lfilter   \n",
      "    \"\"\"\n",
      "    # Import modules just in case they weren't already\n",
      "    import numpy as np\n",
      "    import scipy.signal as sps\n",
      "    \n",
      "    # Check to see if the window is an odd number\n",
      "    if (window_len % 2) == 0: \n",
      "        raise ValueError, \"Window must be an odd length\"\n",
      "\n",
      "    # Create a mirror of the left and right parts of the data\n",
      "    left_mirror = x[ window_len-1 : 0 : -1 ]\n",
      "    right_mirror = x[ -1 : -window_len : -1 ]\n",
      "    # Join the original data with mirrors\n",
      "    mirrored = np.r_[left_mirror, x, right_mirror] \n",
      "\n",
      "    # Generate the window data\n",
      "    if window == 'flat':\n",
      "        win = np.ones(window_len, 'd') \n",
      "    else:\n",
      "        win = getattr(np, window)(window_len)\n",
      "\n",
      "    # Convolve the data with the normalized window function\n",
      "    y = sps.fftconvolve(win/win.sum(), mirrored, mode='valid') \n",
      "    \n",
      "    # Retun the data with the mirrored stuff stripped away\n",
      "    return y[(window_len-1)/2:-(window_len-1)/2]"
     ],
     "language": "python",
     "metadata": {},
     "outputs": []
    },
    {
     "cell_type": "markdown",
     "metadata": {},
     "source": [
      "Next, we'll read in a [TPD](http://en.wikipedia.org/wiki/Thermal_desorption_spectroscopy) data file that I friend of mine needed smoothed. "
     ]
    },
    {
     "cell_type": "code",
     "collapsed": false,
     "input": [
      "f = open('smooth.data')\n",
      "f.next()\n",
      "data = []\n",
      "for line in f:\n",
      "    sp = line.split()\n",
      "    data.append(sp)\n",
      "f.close()\n",
      "data = np.array(data, dtype='float64')"
     ],
     "language": "python",
     "metadata": {},
     "outputs": []
    },
    {
     "cell_type": "markdown",
     "metadata": {},
     "source": [
      "Extract out a couple of columns for analysis. The first column (index = 0) is the temperature, and then select another column for different masses from the MS detector."
     ]
    },
    {
     "cell_type": "code",
     "collapsed": false,
     "input": [
      "# Y data column\n",
      "col = 1\n",
      "\n",
      "x = data[:,0].copy()\n",
      "y = data[:,col].copy()\n",
      "\n",
      "x, mask2 = np.unique(x, return_index=True)\n",
      "y = y[mask2]\n",
      "\n",
      "asort = x.argsort()\n",
      "x = x[asort]\n",
      "y = y[asort]\n",
      "\n",
      "plt.figure(figsize=(10,4))\n",
      "plt.plot(x, y, 'k')\n",
      "plt.xlim(330, 850)"
     ],
     "language": "python",
     "metadata": {},
     "outputs": []
    },
    {
     "cell_type": "code",
     "collapsed": false,
     "input": [
      "y_smooth = smooth(y, 201, window='flat')\n",
      "\n",
      "plt.figure(figsize=(10,4))\n",
      "plt.plot(x, y, 'k', alpha=0.2)\n",
      "plt.plot(x, y_smooth, 'g', lw=2)\n",
      "plt.xlim(330, 850)"
     ],
     "language": "python",
     "metadata": {},
     "outputs": []
    },
    {
     "cell_type": "code",
     "collapsed": false,
     "input": [
      "y_smooth_hanning = smooth(y, 201, window='hanning')\n",
      "y_smooth_bartlett = smooth(y, 201, window='bartlett')\n",
      "\n",
      "plt.figure(figsize=(10,4))\n",
      "plt.plot(x, y, 'k', alpha=0.2)\n",
      "plt.plot(x, y_smooth, 'g', lw=2, alpha=0.5)\n",
      "plt.plot(x, y_smooth_hanning, 'b', lw=2)\n",
      "plt.plot(x, y_smooth_bartlett, 'r', lw=2)\n",
      "plt.xlim(330, 850)"
     ],
     "language": "python",
     "metadata": {},
     "outputs": []
    },
    {
     "cell_type": "code",
     "collapsed": false,
     "input": [
      "from scipy.interpolate import UnivariateSpline as spline\n",
      "\n",
      "newx = np.linspace(x.min(), x.max(), 2**16)\n",
      "\n",
      "sp = spline(x, y)\n",
      "resid = sp.get_residual()\n",
      "sp2 = spline(x, y, s=resid*0.88)\n",
      "newy = sp2(newx)\n",
      "\n",
      "plt.figure(figsize=(10,4))\n",
      "plt.plot(x, y, 'k', alpha=0.2)\n",
      "plt.plot(x, y_smooth, 'g', lw=2, alpha=0.5)\n",
      "plt.plot(x, y_smooth_hanning, 'b', lw=2, alpha=0.5)\n",
      "plt.plot(newx, newy, 'r', lw=2)\n",
      "plt.xlim(330, 850)"
     ],
     "language": "python",
     "metadata": {},
     "outputs": []
    },
    {
     "cell_type": "code",
     "collapsed": false,
     "input": [
      "print 'Input array size:', x.size\n",
      "x_points = np.log2( x.shape[0] )\n",
      "x_points_ft = 2**( int(x_points) + 1)\n",
      "print 'New array size:', x_points_ft\n",
      "x_ft = np.linspace(x.min(), x.max(), x_points_ft)\n",
      "\n",
      "sp_ft = spline(x, y, s=0)\n",
      "y_ft = sp_ft(x_ft)\n",
      "\n",
      "plt.figure(figsize=(10,4))\n",
      "plt.plot(x_ft, y_ft, 'b')\n",
      "plt.plot(x, y, 'k', alpha=0.7)\n",
      "plt.xlim(330, 850)"
     ],
     "language": "python",
     "metadata": {},
     "outputs": []
    },
    {
     "cell_type": "code",
     "collapsed": false,
     "input": [
      "ft = np.fft.rfft(y_ft)\n",
      "\n",
      "plt.figure(figsize=(10,4))\n",
      "plt.plot(ft.real)\n",
      "plt.xlim(0, ft.size)\n",
      "plt.ylim(-0.5e-7,0.5e-7)"
     ],
     "language": "python",
     "metadata": {},
     "outputs": []
    },
    {
     "cell_type": "code",
     "collapsed": false,
     "input": [
      "ft = np.fft.rfft(y_ft)\n",
      "ft[100:] = 0\n",
      "rft = np.fft.irfft(ft)\n",
      "\n",
      "plt.figure(figsize=(10,4))\n",
      "plt.plot(x, y, 'k', alpha=0.2)\n",
      "plt.plot(x, y_smooth, 'r', lw=2, alpha=0.5)\n",
      "plt.plot(newx, newy, 'g', lw=2, alpha=0.5) # Green line, Spline smoothed\n",
      "plt.plot(x_ft, rft, 'b', lw=2) # Blue line, FT filtered\n",
      "plt.xlim(330, 850)"
     ],
     "language": "python",
     "metadata": {},
     "outputs": []
    },
    {
     "cell_type": "code",
     "collapsed": false,
     "input": [],
     "language": "python",
     "metadata": {},
     "outputs": []
    }
   ],
   "metadata": {}
  }
 ]
}