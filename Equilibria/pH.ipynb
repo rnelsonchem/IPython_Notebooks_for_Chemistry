{
 "metadata": {
  "name": "pH"
 },
 "nbformat": 3,
 "nbformat_minor": 0,
 "worksheets": [
  {
   "cells": [
    {
     "cell_type": "code",
     "collapsed": false,
     "input": [
      "%pylab inline\n",
      "import systematic as ph"
     ],
     "language": "python",
     "metadata": {},
     "outputs": []
    },
    {
     "cell_type": "markdown",
     "metadata": {},
     "source": [
      "# Intro: Systematic pH Module\n",
      "\n",
      "The 'systematic' module contains some object classes for working with aqueous acids and bases.\n",
      "\n",
      "The most important class is 'acid'. This allows you to define an acidic species with a specific pKa (or Ka), charge (of the most acidic species), and concentration. The following is a generic acid that is neutral in its most acidic form, has a pKa of 1.7, and [HA] = 0.01 M. (Note: there is no 'base' class. Just redefine a base as it's conjugate acid.)"
     ]
    },
    {
     "cell_type": "code",
     "collapsed": false,
     "input": [
      "a = ph.acid(pKa=1.7, charge=0, conc=0.01)\n",
      "print 'Fraction of HA and A- at ph 3:', a.alpha(3.0)"
     ],
     "language": "python",
     "metadata": {},
     "outputs": []
    },
    {
     "cell_type": "markdown",
     "metadata": {},
     "source": [
      "This object has a alpha method that will return the fraction of each species at a given pH value."
     ]
    },
    {
     "cell_type": "code",
     "collapsed": false,
     "input": [
      "print 'Fraction of HA and A- at ph 3:', a.alpha(3.0)"
     ],
     "language": "python",
     "metadata": {},
     "outputs": []
    },
    {
     "cell_type": "markdown",
     "metadata": {},
     "source": [
      "A list or array of numbers can be passed into the alpha method, which can be useful for plotting distribution diagrams."
     ]
    },
    {
     "cell_type": "code",
     "collapsed": false,
     "input": [
      "pHs = np.linspace(0, 14, 1000)\n",
      "plt.plot(pHs, a.alpha(pHs))"
     ],
     "language": "python",
     "metadata": {},
     "outputs": []
    },
    {
     "cell_type": "markdown",
     "metadata": {},
     "source": [
      "A list of pKa values can be given to define a polyprotic species."
     ]
    },
    {
     "cell_type": "code",
     "collapsed": false,
     "input": [
      "a = ph.acid(pKa=[1.7, 4.5], charge=0, conc=0.01)\n",
      "print 'Fraction of H2A, HA-, and A2- at ph 3:', a.alpha(3.0)\n",
      "plt.plot(pHs, a.alpha(pHs))"
     ],
     "language": "python",
     "metadata": {},
     "outputs": []
    },
    {
     "cell_type": "markdown",
     "metadata": {},
     "source": [
      "There is also a spectator ion class. In this case, the 'alpha' value for a spectator will be contant at every pH. This defines a spectator ion with a single positive charge, such as sodium."
     ]
    },
    {
     "cell_type": "code",
     "collapsed": false,
     "input": [
      "spec = ph.spectator(charge=1, conc=0.01)\n",
      "print 'The concentration of a spectator ion will be constant at all pH values:', spec.alpha(3.0)"
     ],
     "language": "python",
     "metadata": {},
     "outputs": []
    },
    {
     "cell_type": "markdown",
     "metadata": {},
     "source": [
      "The final class is 'salt', which is a bit of a misnomer. This is used to define mixtures of acids and spectators. The most important method in the salt class is pHsolve, which iteratively solves for the pH of the solution defined by the 'salts' components.\n",
      "\n",
      "An example of a monprotic acid:"
     ]
    },
    {
     "cell_type": "code",
     "collapsed": false,
     "input": [
      "a = ph.acid(pKa=1.7, charge=0, conc=0.01)\n",
      "salt = ph.salt(a)\n",
      "salt.pHsolve()\n",
      "print salt.pH"
     ],
     "language": "python",
     "metadata": {},
     "outputs": []
    },
    {
     "cell_type": "markdown",
     "metadata": {},
     "source": [
      "An example of a diprotic acid:"
     ]
    },
    {
     "cell_type": "code",
     "collapsed": false,
     "input": [
      "a = ph.acid(pKa=[1.7, 3.5], charge=0, conc=0.01)\n",
      "salt = ph.salt(a)\n",
      "salt.pHsolve()\n",
      "print salt.pH"
     ],
     "language": "python",
     "metadata": {},
     "outputs": []
    },
    {
     "cell_type": "markdown",
     "metadata": {},
     "source": [
      "An example of a strong acid:"
     ]
    },
    {
     "cell_type": "code",
     "collapsed": false,
     "input": [
      "spec = ph.spectator(charge=-1, conc=0.01)\n",
      "salt = ph.salt(spec)\n",
      "salt.pHsolve()\n",
      "print salt.pH"
     ],
     "language": "python",
     "metadata": {},
     "outputs": []
    },
    {
     "cell_type": "markdown",
     "metadata": {},
     "source": [
      "An example of a singly deprotonated diprotic acid salt, e.g. NaHCO3"
     ]
    },
    {
     "cell_type": "code",
     "collapsed": false,
     "input": [
      "a = ph.acid(pKa=[1.7, 3.5], charge=0, conc=0.01)\n",
      "spec = ph.spectator(charge=1, conc=0.01)\n",
      "salt = ph.salt(spec, a)\n",
      "salt.pHsolve()\n",
      "print salt.pH"
     ],
     "language": "python",
     "metadata": {},
     "outputs": []
    },
    {
     "cell_type": "markdown",
     "metadata": {},
     "source": [
      "## Specific Examples\n",
      "\n",
      "Ammonium Phosphate (0.001 M)\n",
      "\n",
      "Ammounium pKa = 9.498\n",
      "\n",
      "Phosphate pKas = 2.148, 7.198, 12.375"
     ]
    },
    {
     "cell_type": "code",
     "collapsed": false,
     "input": [
      "nh4 = ph.acid(pKa=9.498, charge=1, conc=0.003)\n",
      "po4 = ph.acid(pKa=[2.148, 7.198, 12.375], charge=0, conc=0.001)\n",
      "\n",
      "nh4po4 = ph.salt(nh4, po4)\n",
      "nh4po4.pHsolve()\n",
      "print nh4po4.pH"
     ],
     "language": "python",
     "metadata": {},
     "outputs": []
    },
    {
     "cell_type": "markdown",
     "metadata": {},
     "source": [
      "Ammonium Hydrogen Phosphate (0.001 M)"
     ]
    },
    {
     "cell_type": "code",
     "collapsed": false,
     "input": [
      "nh4 = ph.acid(pKa=9.498, charge=1, conc=0.002)\n",
      "po4 = ph.acid(pKa=[2.148, 7.198, 12.375], charge=0, conc=0.001)\n",
      "\n",
      "nh4po4 = ph.salt(nh4, po4)\n",
      "nh4po4.pHsolve()\n",
      "print nh4po4.pH"
     ],
     "language": "python",
     "metadata": {},
     "outputs": []
    },
    {
     "cell_type": "markdown",
     "metadata": {},
     "source": [
      "Ammonium Dihydrogen Phosphate (0.001 M)"
     ]
    },
    {
     "cell_type": "code",
     "collapsed": false,
     "input": [
      "nh4 = ph.acid(pKa=9.498, charge=1, conc=0.001)\n",
      "po4 = ph.acid(pKa=[2.148, 7.198, 12.375], charge=0, conc=0.001)\n",
      "\n",
      "nh4po4 = ph.salt(nh4, po4)\n",
      "nh4po4.pHsolve()\n",
      "print nh4po4.pH"
     ],
     "language": "python",
     "metadata": {},
     "outputs": []
    },
    {
     "cell_type": "markdown",
     "metadata": {},
     "source": [
      "HCl (1.0e-8 M)"
     ]
    },
    {
     "cell_type": "code",
     "collapsed": false,
     "input": [
      "cl = ph.spectator(charge=-1, conc=1.0e-8)\n",
      "hcl = ph.salt(cl)\n",
      "hcl.pHsolve()\n",
      "print hcl.pH"
     ],
     "language": "python",
     "metadata": {},
     "outputs": []
    },
    {
     "cell_type": "markdown",
     "metadata": {},
     "source": [
      "NaOH (1.0e-8 M)"
     ]
    },
    {
     "cell_type": "code",
     "collapsed": false,
     "input": [
      "na = ph.spectator(charge=1, conc=1.0e-8)\n",
      "naoh = ph.salt(na)\n",
      "naoh.pHsolve()\n",
      "print naoh.pH"
     ],
     "language": "python",
     "metadata": {},
     "outputs": []
    },
    {
     "cell_type": "code",
     "collapsed": false,
     "input": [],
     "language": "python",
     "metadata": {},
     "outputs": []
    }
   ],
   "metadata": {}
  }
 ]
}