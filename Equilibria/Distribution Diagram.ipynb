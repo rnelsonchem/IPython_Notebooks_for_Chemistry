{
 "metadata": {
  "name": "Distribution Diagram"
 },
 "nbformat": 3,
 "nbformat_minor": 0,
 "worksheets": [
  {
   "cells": [
    {
     "cell_type": "code",
     "collapsed": false,
     "input": [
      "%pylab inline\n",
      "np.set_printoptions(precision=4)"
     ],
     "language": "python",
     "metadata": {},
     "outputs": []
    },
    {
     "cell_type": "markdown",
     "metadata": {},
     "source": [
      "Set up some of the initial parpamters for our system."
     ]
    },
    {
     "cell_type": "code",
     "collapsed": false,
     "input": [
      "pKa = np.array( [1.4, 4.51, 8.04, 12.25] )\n",
      "pKa.sort()\n",
      "Ka = 10**(-pKa)"
     ],
     "language": "python",
     "metadata": {},
     "outputs": []
    },
    {
     "cell_type": "markdown",
     "metadata": {},
     "source": [
      "Here we're just going to add a one to the beginning of our K<sub>a</sub> array to make some of the future calculations easier."
     ]
    },
    {
     "cell_type": "code",
     "collapsed": false,
     "input": [
      "Ka = np.append( 1., Ka )"
     ],
     "language": "python",
     "metadata": {},
     "outputs": []
    },
    {
     "cell_type": "markdown",
     "metadata": {},
     "source": [
      "Make a multidimmensional array of H<sub>3</sub>O concentrations, where the number of columns is equal to the number of pK<sub>a</sub> values."
     ]
    },
    {
     "cell_type": "code",
     "collapsed": false,
     "input": [
      "pH = np.linspace(0, 14, 1000)\n",
      "h3o = 10**(-pH)\n",
      "h3o = np.repeat( h3o.reshape(-1, 1), len(Ka), axis=1 )\n",
      "print h3o"
     ],
     "language": "python",
     "metadata": {},
     "outputs": []
    },
    {
     "cell_type": "markdown",
     "metadata": {},
     "source": [
      "Now we want to take each column to a different power value starting from length of K<sub>a</sub> down to zero.\n",
      "\n",
      "Columns: $H_{3}O^{n}, H_{3}O^{n-1}, \\dots, H_{3}O^{0}$ where *n* = Number of pK<sub>a</sub> values"
     ]
    },
    {
     "cell_type": "code",
     "collapsed": false,
     "input": [
      "power = np.arange( Ka.size )\n",
      "h3o_pow = h3o**( power[::-1] )\n",
      "print h3o_pow"
     ],
     "language": "python",
     "metadata": {},
     "outputs": []
    },
    {
     "cell_type": "markdown",
     "metadata": {},
     "source": [
      "Each column in the H<sub>3</sub>O power array needs to get multiplied by the product of several K<sub>a</sub> values. The K<sub>a</sub> products can be computed using a cumulative product function.\n",
      "\n",
      "Ka_prod columns: $1, 1*K_{a1}, 1*K_{a1}*K_{a2}, \\dots , 1*K_{a1}*K_{a2}*\\dots*K_{an}$\n",
      "\n",
      "h3o_Ka columns: $1*H_{3}O^{n}, 1*K_{a1}*H_{3}O^{n-1}, \\dots , 1*K_{a1}*K_{a2}*\\dots*K_{an}*H_{3}O^{0}$"
     ]
    },
    {
     "cell_type": "code",
     "collapsed": false,
     "input": [
      "Ka_prod = np.cumproduct(Ka)\n",
      "h3o_Ka = h3o_pow*Ka_prod"
     ],
     "language": "python",
     "metadata": {},
     "outputs": []
    },
    {
     "cell_type": "markdown",
     "metadata": {},
     "source": [
      "The denominator will now be the sum of the first axis (rows).\n",
      "\n",
      "Denominator: $1*H_{3}O^{n} + 1*K_{a1}*H_{3}O^{n-1} + \\dots + 1*K_{a1}*K_{a2}*\\dots*K_{an}*H_{3}O^{0}$"
     ]
    },
    {
     "cell_type": "code",
     "collapsed": false,
     "input": [
      "den = h3o_Ka.sum(axis=1)"
     ],
     "language": "python",
     "metadata": {},
     "outputs": []
    },
    {
     "cell_type": "markdown",
     "metadata": {},
     "source": [
      "The final array, which is the alpha values at each pH, will then be the h3o_Ka array divided by the denominator array.\n",
      "\n",
      "final columns: $\\frac{1*H_{3}O^{n}}{den}, \\frac{1*K_{a1}*H_{3}O^{n-1}}{den}, \\dots , \\frac{1*K_{a1}*K_{a2}*\\dots*K_{an}*H_{3}O^{0}}{den}$"
     ]
    },
    {
     "cell_type": "code",
     "collapsed": false,
     "input": [
      "final = h3o_Ka/den.reshape(-1,1)\n",
      "\n",
      "plt.plot(pH, final)"
     ],
     "language": "python",
     "metadata": {},
     "outputs": []
    },
    {
     "cell_type": "code",
     "collapsed": false,
     "input": [],
     "language": "python",
     "metadata": {},
     "outputs": []
    }
   ],
   "metadata": {}
  }
 ]
}